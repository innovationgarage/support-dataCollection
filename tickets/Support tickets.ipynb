{
 "cells": [
  {
   "cell_type": "code",
   "execution_count": 2,
   "metadata": {},
   "outputs": [
    {
     "data": {
      "text/plain": [
       "b''"
      ]
     },
     "execution_count": 2,
     "metadata": {},
     "output_type": "execute_result"
    }
   ],
   "source": [
    "import subprocess\n",
    "subprocess.check_output([\"pip\", \"install\", \"nltk\"])\n",
    "\n",
    "subprocess.check_output([\"python\", \"-m\", \"nltk.downloader\", \"all\"])"
   ]
  },
  {
   "cell_type": "code",
   "execution_count": 3,
   "metadata": {},
   "outputs": [
    {
     "name": "stdout",
     "output_type": "stream",
     "text": [
      "Populating the interactive namespace from numpy and matplotlib\n"
     ]
    }
   ],
   "source": [
    "%pylab inline\n",
    "import msgpack\n",
    "import nltk\n",
    "\n",
    "import message"
   ]
  },
  {
   "cell_type": "code",
   "execution_count": 4,
   "metadata": {},
   "outputs": [],
   "source": [
    "with open(\"/home/jovyan/ymslanda/supportnlp/tickets/all_tickets_and_comments.msgpack\", \"rb\") as f:\n",
    "    data = msgpack.load(f, raw=False)"
   ]
  },
  {
   "cell_type": "code",
   "execution_count": 29,
   "metadata": {},
   "outputs": [
    {
     "name": "stdout",
     "output_type": "stream",
     "text": [
      "Heisan\n",
      "\n",
      "Nå har jeg brukt eCatch i en tur og funnet det lett å jobbe med. \n",
      "Nu bittter vi skippar  hann som kommer nu heder \n",
      "Helgi Sigvaldason \n",
      "helgi.jobb@gmail.com \n",
      "95784028\n",
      "Han må få brukernavn og passord\n",
      "\n",
      "\n",
      "Sigvaldi Thorsteinsson\n",
      "Kløfta 4\n",
      "9750 Honningsvåg\n",
      "Norge\n",
      "mobile:95862149\n"
     ]
    }
   ],
   "source": [
    "print(data[360000095711][54656][\"description\"])"
   ]
  },
  {
   "cell_type": "code",
   "execution_count": 30,
   "metadata": {},
   "outputs": [
    {
     "name": "stdout",
     "output_type": "stream",
     "text": [
      "Heisan\n",
      "\n",
      "Nå har jeg brukt eCatch i en tur og funnet det lett å jobbe med. \n",
      "Nu bittter vi skippar  hann som kommer nu heder \n",
      "Helgi Sigvaldason \n",
      "helgi.jobb@gmail.com \n",
      "95784028\n",
      "Han må få brukernavn og passord\n",
      "\n",
      "\n",
      "Sigvaldi Thorsteinsson\n",
      "Kløfta 4\n",
      "9750 Honningsvåg\n",
      "Norge\n",
      "mobile:95862149\n"
     ]
    }
   ],
   "source": [
    "print(data[360000095711][54656][\"description\"])"
   ]
  },
  {
   "cell_type": "code",
   "execution_count": 5,
   "metadata": {},
   "outputs": [],
   "source": [
    "stopwords = [\"master\",\"dualog\",\"day\",\"subject\",\"dear\",\"data\",\"fw\",\"issue\",\"cc\",\"attachment\",\"attached\",\"call\",\"new\",\"use\",\"check\",\"recipient\",\"system\",\"information\",\"us\",\"send\",\"thank\",\"attachments\",\"kindly\",\"received\",\"mailto\",\"request\",\"capt\",\"sent\",\"thanks\",\"message\",\"vessel\",\"support\",\"best\",\"email\",\"good\",\"regards\",\"please\",\"sir\",\"could\",\"need\",\"reply\",\"pls\",\"pm\",\"ltd\",\"note\",\"contact\",\"following\",\"kind\",\"service\",\"office\",\"sender\",\"mail\",\"intended\",\"address\",\"ship\",\"advise\",\"id\",\"confidential\",\"server\",\"also\",\"may\",\"case\",\"regarding\",\"inform\",\"still\",\"notify\",\"able\",\"hi\",\"team\",\"management\",\"marine\",\"via\",\"copy\",\"manager\",\"details\"]"
   ]
  },
  {
   "cell_type": "code",
   "execution_count": 6,
   "metadata": {},
   "outputs": [],
   "source": [
    "msgfreq = {}\n",
    "for org in data.values():\n",
    "    for ticket in org.values():\n",
    "        for word in message.message(ticket[\"description\"] + \"  \" + ticket[\"subject\"], stopwords).dict:\n",
    "            if word not in msgfreq: msgfreq[word] = 0\n",
    "            msgfreq[word] += 1"
   ]
  },
  {
   "cell_type": "code",
   "execution_count": 7,
   "metadata": {},
   "outputs": [],
   "source": [
    "orderedmsgfreq = sorted((freq, word) for (word, freq) in msgfreq.items())"
   ]
  },
  {
   "cell_type": "code",
   "execution_count": 11,
   "metadata": {},
   "outputs": [
    {
     "name": "stdout",
     "output_type": "stream",
     "text": [
      "receive 257\n",
      "name 258\n",
      "update 259\n",
      "engineer 261\n",
      "october 261\n",
      "release 269\n",
      "hours 270\n",
      "https 280\n",
      "urgent 284\n",
      "pc 286\n",
      "port 295\n",
      "internet 299\n",
      "access 305\n",
      "account 307\n",
      "delete 313\n",
      "fleet 317\n",
      "find 323\n",
      "company 327\n",
      "date 330\n",
      "see 330\n",
      "size 333\n",
      "file 334\n",
      "e 335\n",
      "time 340\n",
      "quarantined 345\n",
      "one 346\n",
      "connection 355\n",
      "password 380\n",
      "c 387\n",
      "error 426\n",
      "crew 449\n",
      "bridge 451\n",
      "captain 455\n",
      "vsat 509\n",
      "mobile 516\n",
      "http 526\n",
      "phone 556\n",
      "fax 682\n",
      "fbb 686\n",
      "tel 702\n"
     ]
    }
   ],
   "source": [
    "for f, word in orderedmsgfreq[-40:]:\n",
    "    print(word, f)"
   ]
  },
  {
   "cell_type": "code",
   "execution_count": 10,
   "metadata": {},
   "outputs": [
    {
     "data": {
      "image/png": "[encoded data removed]",
      "text/plain": [
       "<Figure size 432x288 with 1 Axes>"
      ]
     },
     "metadata": {},
     "output_type": "display_data"
    }
   ],
   "source": [
    "plt.hist(msgfreq.values(), log=True, bins=100)\n",
    "plt.show()"
   ]
  },
  {
   "cell_type": "code",
   "execution_count": null,
   "metadata": {},
   "outputs": [],
   "source": [
    "print(4+2)"
   ]
  },
  {
   "cell_type": "code",
   "execution_count": null,
   "metadata": {},
   "outputs": [],
   "source": []
  }
 ],
 "metadata": {
  "kernelspec": {
   "display_name": "Python 3",
   "language": "python",
   "name": "python3"
  },
  "language_info": {
   "codemirror_mode": {
    "name": "ipython",
    "version": 3
   },
   "file_extension": ".py",
   "mimetype": "text/x-python",
   "name": "python",
   "nbconvert_exporter": "python",
   "pygments_lexer": "ipython3",
   "version": "3.6.3"
  }
 },
 "nbformat": 4,
 "nbformat_minor": 2
}
