{
 "cells": [
  {
   "cell_type": "code",
   "execution_count": 2,
   "metadata": {},
   "outputs": [
    {
     "data": {
      "text/plain": [
       "b''"
      ]
     },
     "execution_count": 2,
     "metadata": {},
     "output_type": "execute_result"
    }
   ],
   "source": [
    "import subprocess\n",
    "subprocess.check_output([\"pip\", \"install\", \"nltk\"])\n",
    "\n",
    "subprocess.check_output([\"python\", \"-m\", \"nltk.downloader\", \"all\"])"
   ]
  },
  {
   "cell_type": "code",
   "execution_count": 3,
   "metadata": {},
   "outputs": [
    {
     "name": "stdout",
     "output_type": "stream",
     "text": [
      "Populating the interactive namespace from numpy and matplotlib\n"
     ]
    }
   ],
   "source": [
    "%pylab inline\n",
    "import msgpack\n",
    "import nltk\n",
    "import sklearn.cluster\n",
    "import message\n",
    "import re\n",
    "from nltk.corpus import stopwords\n",
    "from sklearn.feature_extraction.text import CountVectorizer\n",
    "from sklearn.feature_extraction.text import TfidfTransformer\n",
    "from sklearn.feature_extraction.text import TfidfVectorizer\n",
    "from sklearn.cluster import KMeans\n",
    "import time\n",
    "from sklearn import metrics"
   ]
  },
  {
   "cell_type": "code",
   "execution_count": 4,
   "metadata": {},
   "outputs": [],
   "source": [
    "with open(\"/home/jovyan/ymslanda/supportnlp/tickets/all_tickets_and_comments.msgpack\", \"rb\") as f:\n",
    "    data = msgpack.load(f, raw=False)\n",
    "\n",
    "with open(\"/home/jovyan/ymslanda/supportnlp/tickets/all_tickets_fields.msgpack\", \"rb\") as f:\n",
    "    ticketfields = msgpack.load(f, raw=False)\n",
    "    \n",
    "with open(\"stopwords.msgpack\", \"rb\") as f:\n",
    "    stop_words = msgpack.load(f)\n",
    "stop_words = set(stop_words).union(stopwords.words('english')).union(stopwords.words('norwegian'))"
   ]
  },
  {
   "cell_type": "code",
   "execution_count": 6,
   "metadata": {},
   "outputs": [],
   "source": [
    "msgfreq = {}\n",
    "for org in data.values():\n",
    "    for ticket in org.values():\n",
    "        for word in message.message(ticket[\"description\"] + \"  \" + ticket[\"subject\"], stopwords).dict:\n",
    "            if word not in msgfreq: msgfreq[word] = 0\n",
    "            msgfreq[word] += 1"
   ]
  },
  {
   "cell_type": "code",
   "execution_count": 7,
   "metadata": {},
   "outputs": [],
   "source": [
    "orderedmsgfreq = sorted((freq, word) for (word, freq) in msgfreq.items())"
   ]
  },
  {
   "cell_type": "code",
   "execution_count": 17,
   "metadata": {},
   "outputs": [],
   "source": [
    "msgs = []\n",
    "for orgid, org in data.items():\n",
    "    for ticketid, ticket in org.items():\n",
    "        m = message.message(ticket[\"description\"] + \"  \" + ticket[\"subject\"], stopwords)\n",
    "        m.orgid = orgid\n",
    "        m.ticketid = ticketid\n",
    "        msgs.append(m)"
   ]
  },
  {
   "cell_type": "markdown",
   "metadata": {},
   "source": [
    "## Possible distance measure between tickets for use in clustering\n",
    "Currently not used :("
   ]
  },
  {
   "cell_type": "code",
   "execution_count": 26,
   "metadata": {},
   "outputs": [],
   "source": [
    "conn = np.zeros((len(msgs), len(msgs)))\n",
    "for ai, a in enumerate(msgs):\n",
    "    for bi, b in enumerate(msgs):\n",
    "        conn[ai,bi] = len(a.dict.intersection(b.dict)) / len(a.dict.union(b.dict))\n",
    "\n",
    "ticketids = np.array(list(msg.ticketid for msg in msgs), dtype=\"i\")\n",
    "\n",
    "np.savez_compressed(\"connectivity_iou_description_subject.npz\", ticketids=ticketids, conn=conn)"
   ]
  },
  {
   "cell_type": "markdown",
   "metadata": {},
   "source": [
    "## Cluster tickets"
   ]
  },
  {
   "cell_type": "code",
   "execution_count": 231,
   "metadata": {},
   "outputs": [],
   "source": [
    "\n",
    "def tickets():\n",
    "    for org in data.values():\n",
    "        for ticket in org.values():\n",
    "            if ticket[\"subject\"] in (\"SQLdump\",):\n",
    "                continue\n",
    "            if len(ticket[\"description\"]) > 1000:\n",
    "                continue\n",
    "            yield ticket\n",
    "\n",
    "tickets = list(tickets())\n",
    "tickettexts = [re.sub(\"(\\\\w)://(\\\\w)\", \"\\\\1URL\\\\2\",\n",
    "                      re.sub(\"(\\\\w):(\\\\w)\", \"\\\\1COLON\\\\2\",\n",
    "                             re.sub(\"(\\\\w)/(\\\\w)\", \"\\\\1SLASH\\\\2\",\n",
    "                                    re.sub(\"(\\\\w)\\\\.(\\\\w)\", \"\\\\1DOT\\\\2\",\n",
    "                                         (\"%(subject)s %(description)s\" % ticket)))))\n",
    "              for ticket in tickets]"
   ]
  },
  {
   "cell_type": "code",
   "execution_count": 232,
   "metadata": {},
   "outputs": [
    {
     "name": "stdout",
     "output_type": "stream",
     "text": [
      "Clustering sparse data with KMeans(algorithm='auto', copy_x=True, init='k-means++', max_iter=1000,\n",
      "    n_clusters=100, n_init=1, n_jobs=1, precompute_distances='auto',\n",
      "    random_state=None, tol=0.0001, verbose=True)\n",
      "Initialization complete\n",
      "Iteration  0, inertia 1511.999\n",
      "Iteration  1, inertia 892.579\n",
      "Iteration  2, inertia 880.993\n",
      "Iteration  3, inertia 876.778\n",
      "Iteration  4, inertia 874.939\n",
      "Iteration  5, inertia 874.073\n",
      "Iteration  6, inertia 873.546\n",
      "Iteration  7, inertia 873.265\n",
      "Iteration  8, inertia 873.196\n",
      "Converged at iteration 8: center shift 0.000000e+00 within tolerance 8.372466e-09\n",
      "done in 2.113s\n",
      "\n"
     ]
    }
   ],
   "source": [
    "vectorizer = TfidfVectorizer(use_idf=False, stop_words=stop_words)\n",
    "X = vectorizer.fit_transform(tickettexts)\n",
    "\n",
    "n_clusters = 100\n",
    "km = KMeans(n_clusters=n_clusters, init='k-means++', max_iter=1000, n_init=1,\n",
    "            verbose=True)\n",
    "    \n",
    "print(\"Clustering sparse data with %s\" % km)\n",
    "t0 = time.time()\n",
    "km.fit(X)\n",
    "print(\"done in %0.3fs\" % (time.time() - t0))\n",
    "print()\n",
    "\n",
    "\n",
    "#print(\"Top terms per cluster:\")\n",
    "#\n",
    "#order_centroids = km.cluster_centers_.argsort()[:, ::-1]\n",
    "#\n",
    "#terms = vectorizer.get_feature_names()\n",
    "#for i in range(n_clusters):\n",
    "#    print(\"Cluster %d:\" % i, end='')\n",
    "#    for ind in order_centroids[i, :10]:\n",
    "#        print(' %s' % terms[ind], end='')\n",
    "#    print()\n"
   ]
  },
  {
   "cell_type": "code",
   "execution_count": 233,
   "metadata": {},
   "outputs": [],
   "source": [
    "clustering = km.predict(X)"
   ]
  },
  {
   "cell_type": "code",
   "execution_count": 234,
   "metadata": {},
   "outputs": [],
   "source": [
    "clusterorder, clustercount = np.unique(clustering, return_counts=True)\n",
    "srt = clustercount.argsort()\n",
    "clusterorder = clusterorder[srt]\n",
    "clustercount = clustercount[srt]"
   ]
  },
  {
   "cell_type": "code",
   "execution_count": 235,
   "metadata": {},
   "outputs": [],
   "source": [
    "clusteredtickets = {}\n",
    "for idx, ticket in enumerate(tickets):\n",
    "    if clustering[idx] not in clusteredtickets:\n",
    "        clusteredtickets[clustering[idx]] = []\n",
    "    clusteredtickets[clustering[idx]].append(ticket)\n"
   ]
  },
  {
   "cell_type": "markdown",
   "metadata": {},
   "source": [
    "## Some measures across all tickets"
   ]
  },
  {
   "cell_type": "code",
   "execution_count": 236,
   "metadata": {},
   "outputs": [
    {
     "data": {
      "image/png": "[encoded data removed]",
      "text/plain": [
       "<Figure size 432x288 with 1 Axes>"
      ]
     },
     "metadata": {},
     "output_type": "display_data"
    },
    {
     "data": {
      "image/png": "[encoded data removed]",
      "text/plain": [
       "<Figure size 432x288 with 1 Axes>"
      ]
     },
     "metadata": {},
     "output_type": "display_data"
    },
    {
     "data": {
      "image/png": "[encoded data removed]",
      "text/plain": [
       "<Figure size 432x288 with 1 Axes>"
      ]
     },
     "metadata": {},
     "output_type": "display_data"
    },
    {
     "data": {
      "image/png": "[encoded data removed]",
      "text/plain": [
       "<Figure size 432x288 with 1 Axes>"
      ]
     },
     "metadata": {},
     "output_type": "display_data"
    }
   ],
   "source": [
    "plt.hist(msgfreq.values(), log=True, bins=100)\n",
    "plt.title(\"Number of tickets vs word\")\n",
    "plt.xlabel(\"word\")\n",
    "plt.ylabel(\"nr. of tickets\")\n",
    "plt.show()\n",
    "\n",
    "plt.hist([len(ticket[\"description\"]) for ticket in tickets], log=True, bins=50)\n",
    "plt.title(\"Number of tickets vs length of description\")\n",
    "plt.xlabel(\"Description length (chars)\")\n",
    "plt.ylabel(\"nr. of tickets\")\n",
    "plt.show()\n",
    "\n",
    "plt.hist([len(msg.dict) for msg in msgs], log=True, bins=50)\n",
    "plt.title(\"Number of tickets vs number of unique words per ticket\")\n",
    "plt.xlabel(\"nr. of unique words / ticket\")\n",
    "plt.ylabel(\"nr. of tickets\")\n",
    "plt.show()\n",
    "\n",
    "plt.plot(clustercount)\n",
    "plt.title(\"Number of tickets per cluster\")\n",
    "plt.xlabel(\"cluster\")\n",
    "plt.ylabel(\"nr. of tickets\")\n",
    "plt.show()"
   ]
  },
  {
   "cell_type": "markdown",
   "metadata": {},
   "source": [
    "## Cluster example messages (subject lines)"
   ]
  },
  {
   "cell_type": "code",
   "execution_count": 237,
   "metadata": {
    "scrolled": false
   },
   "outputs": [
    {
     "name": "stdout",
     "output_type": "stream",
     "text": [
      "Cluster 48\n",
      "    BW Lilac / Dualog+Compas\n",
      "    Re: [Request ID :##75467##] : BW Lilac / Dualog+Compas\n",
      "    190118-GAR - Request for Dualog password\n",
      "    FW: [Request received] FW: crew password\n",
      "    181106 - GAR - Dualog Password for Mr. Asuncion\n",
      "    dualog register internet problem\n",
      "    {SPAM?} ELBRUS -Reset Password for Crew\n",
      "    change vsat and iridium in dualog/ possibility to swap over to iridium when we need, see what email is blocking the traffic, stop big email.\n",
      "    Dualog Password - CK Michael Domingo\n",
      "    Hafnia Africa - please reset password of new crew\n",
      "Cluster 43\n",
      "    vessel Name Change\n",
      "    Email issue - Cielo di San Francisco\n",
      "    Glenda Meryl - Dualog Backup OLD Folder\n",
      "    Resend the emails.\n",
      "    Allow URL's for D’Amico Fleet and Ishima Fleet\n",
      "    Cielo Di Sanfrancisco Dualog email issue\n",
      "    Cielo Di Rotterdam - IMAP Backup\n",
      "    Reset password\n",
      "    Glenda Meryl_IMAP backup\n",
      "    Medi Serapo_IMAP BackUp\n",
      "Cluster 21\n",
      "    Columbia Highway\n",
      "    Re: New Activation order: EOS Esperance under New Century Overseas\n",
      "    Duplication mail: One Cosmos\n",
      "    Re: NOSHIRO MARU // REQUEST TO RECEIVE MESSAGE\n",
      "    FW: New Activation order: MURORAN under HACHIUMA\n",
      "    New Activation order: CAPE RAINBOW under Toyo Shipping\n",
      "    Request to allow: CAPE RAINBOW / INCOMING EMAIL\n",
      "    Urgent : Failed to install Dualog Connection Suite : MV Muroran\n",
      "    Fwd: Cannot download Dualog ESET from DualogPC: North fortune\n",
      "    Attend on board on 15th Dec : MV JINSEI MARU\n",
      "Cluster 41\n",
      "    Request for Support - Mineral Haiku\n",
      "    VSAT and FBB unable to make connection\n",
      "    VSAT Error open IP\n",
      "    FBB unable to make connection\n",
      "    Dualog - Connecting via FBB BG IP\n",
      "    Unable to connect with DCS\n",
      "    Error Open IP connection\n",
      "    Error Open IP connection\n",
      "    FBB not connecting\n",
      "    Inquiry on 3G/4G auto fail-over when FBB failed\n",
      "Cluster 42\n",
      "    Spam email to vessels.\n",
      "    RE: Sunshine Bandama - Email\n",
      "    Problem: Cannot send using Outlok\n",
      "    Stuck message over FBB\n",
      "    Email processing error\n",
      "    Email not working\n",
      "    Email issues on the Golar Grand\n",
      "    Sonangol Benguela\n",
      "    FW: (maerskshams@neom.dualog.net) Mail storage exceeded\n",
      "    Email processing error\n",
      "Cluster 8\n",
      "    Files sent to Bunga Kelana 8\n",
      "    Dualog Connection Suite\n",
      "    Add the following Ports - Dualog\n",
      "    RE: Block email address -Unblock\n",
      "    Dualog Test Vessels Account\n",
      "    Create FBB250 Startos profile for Paramount Hatteras\n",
      "    Unable to login to NS5 account\n",
      "    Paramount Hydra - XpressLink details\n",
      "    Bunga Kelana 4 release from Eaglestar\n",
      "    Whitelist - donotreply_hrsea@eaglestar.com.my\n",
      "Cluster 7\n",
      "    Ghazal / 2886-18 / Tech /Dualog password\n",
      "    NCC NAJEM / TECH / WIFI PASSWORDS\n",
      "    FW: Export for Backup Failed\n",
      "    Ghazal / 2787-18 / Ops / Dualog Passwords\n",
      "    Sahba / 780 / Request Email ID\n",
      "    Karan - internet access for on-signer\n",
      "    Ghazal / 2730-18 / Ops / Dualog Passwords\n",
      "    SAHBA / REPLICATION / ANTIVIRUS UPDATE\n",
      "    Sahba / 781 / Request Email ID\n",
      "    Golar Frost / Internet access problem\n",
      "Cluster 10\n",
      "    CIELO DI CARTAGENA / NEW CREW REGISTRATION TO DUALOG\n",
      "    Alpine Hibiscus - Email Address Crew Members\n",
      "    Fwd: CIELO ROSSO Security team - ishima wifi\n",
      "    CIELO ROSSO - C/O INTERNAL ID\n",
      "    HIGH STRENGTH : Crew ID and password\n",
      "    HIGH STRENGTH : Crew ID and password\n",
      "    Alpine Maria / V 39 /RESETTING PASSWORD\n",
      "    Alpine Mary - Crew E-mail account\n",
      "    Maersk Mizushima: Request password reset for Crew Email ID\n",
      "    CIELO ROSSO : EMAIL ID\n",
      "Cluster 95\n",
      "    Logfiles\n",
      "    Logfiles\n",
      "    Logfiles\n",
      "    Logfiles\n",
      "    Logfiles\n",
      "    Logfiles\n",
      "    No resultfile found C:\\Dualog\\ConnectionSuite\\tempdir\\tnef\\spooldump.txt\n",
      "    WebMail Issue\n",
      "    Kikuyu Dualog ESET Antivirus not updating\n",
      "    MV SAGE SAGITTARIUS V. 173 - UNEXPLAINED EXCESSIVE DATA CONSUMPTION\n",
      "Cluster 33\n",
      "    P/W reset\n",
      "    HS TOSCA / Crew Internet accounts\n",
      "    HS Tosca / Communication restored\n",
      "    HS TOSCA / Crew Internet accounts\n",
      "    HS TOSCA / Crew Internet accounts\n",
      "    Staionary account creation: Crew Sea Triumph\n",
      "    Crew mail\n",
      "    SEASTAR ENDURANCE - MAIL BOX FOR CREW\n",
      "    Crew E-mail / mv Rainbow Quest\n",
      "    Crew mail\n",
      "Cluster 5\n",
      "    KAPRIJEK: Atatchment Blocked\n",
      "    KAPRIJKE: Blocked attachment\n",
      "    MV Bahri Wafi / Dualog / No communication via 192.168.1.1\n",
      "    MV Bahri Wafi / New Crew Internet Access via Dualog\n",
      "    BAHRI BULK - On-Signers ID & Paswords (Revised)\n",
      "    FW: Dualog blocked attachment\n",
      "    BW Orion: K Chief Batch File\n",
      "    BW PRINCESS: Restricted Traffic in Dualog via VSAT antenna\n",
      "    BW Yangtze_KVH VSAT - MODEM Status\n",
      "    GVK - DUALOG UNABLE TO LOG IN\n",
      "Cluster 38\n",
      "    Oppretting av skipper konto.\n",
      "    temporary disble attachment size-limit\n",
      "    File Size = Quarantine\n",
      "    Akselseson, endring av registreringsmerke\n",
      "    før hjuls sjek i forhold til fangst dag boken\n",
      "    Puffin Bulker - Verify DCP configuration\n",
      "    J.Bergvoll, fortsatt GPS trøbbel\n",
      "    Gadus Poseidon, Havn til havn, hva skal jeg sende\n",
      "    DONG TING HU - Novaco Auto Reply Part 1 of 1\n",
      "    Glenda Melanie, webmail not working. \"Accesds to this site is blocked beacuse it is identified as webmail\"\n",
      "Cluster 84\n",
      "    Urgent : Cannot open Dualog Connection Suite: MV JINSEI MARU\n",
      "    Urgent: Error of illegal ship ID & Password: MV Clipper Bari-star\n",
      "    MV BAHRI WAFI / Warning: The DuaCorePro has failed locking the Tunnel\n",
      "    [Dualog] Re: [Fwd: ##74946## : RE: FwdRE: FwdRE: [Request ID :##74946##] : RE: LNG Benue KIMS]\n",
      "    FwdRe: [Fwd: ##74389## : RE: [Request ID :##74389##] : Microsoft outlook attachment in BIS]\n",
      "    [Fwd: ##75720## : COMPAS ONBOARD - BW TANKERS]\n",
      "    [Fwd: ##75160## : Wrong address in Dualog]\n",
      "    Adding Allowed Group of Websites Fleetwide in Dualog\n",
      "    NEW Support ticket logged: Your request with title \"[Dualog] Re: Dualog C Drive disk space full\" - [ID ##74866##]\n",
      "    Fwd: Warning: The Least Cost Routing has failed 5 time(s) in a row\n",
      "Cluster 4\n",
      "    Request set up Crew email\n",
      "    Crew mail on board\n",
      "    V.45 CHEMROUTE PEGASUS - REQUEST ID & PASSWORD\n",
      "    MT Chemroad Lily / The Request for the assistance\n",
      "    Chemroad Quest - New crew registraion\n",
      "    Jipro Isis // Request to Enroll New WiFi Users\n",
      "    CHEMROAD SIRIUS - REGISTER DUALOG CREW E-MAIL ADDRESS\n",
      "    Jipro Isis // Request to Enroll New WiFi Users\n",
      "    Chemroad Quest - New crew registraion\n",
      "    CHEMROAD WING: CREW ID / PASSWORD FOR NEW JOINED CREW\n"
     ]
    }
   ],
   "source": [
    "for clusterid in clusterorder[(clustercount > 25) & (clustercount < 70)]:\n",
    "    print(\"Cluster %s\" % clusterid)\n",
    "    for t in clusteredtickets[clusterid][:10]:\n",
    "        print(\"    %(subject)s\" % t)"
   ]
  },
  {
   "cell_type": "markdown",
   "metadata": {},
   "source": [
    "## Most common words in descriptions"
   ]
  },
  {
   "cell_type": "code",
   "execution_count": 238,
   "metadata": {},
   "outputs": [
    {
     "name": "stdout",
     "output_type": "stream",
     "text": [
      "crew 449\n",
      "bridge 451\n",
      "captain 455\n",
      "vsat 509\n",
      "mobile 516\n",
      "http 526\n",
      "phone 556\n",
      "fax 682\n",
      "fbb 686\n",
      "tel 702\n"
     ]
    }
   ],
   "source": [
    "for f, word in orderedmsgfreq[-10:]:\n",
    "    print(word, f)"
   ]
  },
  {
   "cell_type": "code",
   "execution_count": null,
   "metadata": {},
   "outputs": [],
   "source": []
  }
 ],
 "metadata": {
  "kernelspec": {
   "display_name": "Python 3",
   "language": "python",
   "name": "python3"
  },
  "language_info": {
   "codemirror_mode": {
    "name": "ipython",
    "version": 3
   },
   "file_extension": ".py",
   "mimetype": "text/x-python",
   "name": "python",
   "nbconvert_exporter": "python",
   "pygments_lexer": "ipython3",
   "version": "3.6.3"
  }
 },
 "nbformat": 4,
 "nbformat_minor": 2
}
