{
 "cells": [
  {
   "cell_type": "code",
   "execution_count": 2,
   "metadata": {},
   "outputs": [
    {
     "data": {
      "text/plain": [
       "b''"
      ]
     },
     "execution_count": 2,
     "metadata": {},
     "output_type": "execute_result"
    }
   ],
   "source": [
    "import subprocess\n",
    "subprocess.check_output([\"pip\", \"install\", \"nltk\"])\n",
    "\n",
    "subprocess.check_output([\"python\", \"-m\", \"nltk.downloader\", \"all\"])"
   ]
  },
  {
   "cell_type": "code",
   "execution_count": 3,
   "metadata": {},
   "outputs": [
    {
     "name": "stdout",
     "output_type": "stream",
     "text": [
      "Populating the interactive namespace from numpy and matplotlib\n"
     ]
    }
   ],
   "source": [
    "%pylab inline\n",
    "import msgpack\n",
    "import nltk\n",
    "import sklearn.cluster\n",
    "import message\n",
    "import re\n",
    "from nltk.corpus import stopwords\n",
    "from sklearn.feature_extraction.text import CountVectorizer\n",
    "from sklearn.feature_extraction.text import TfidfTransformer\n",
    "from sklearn.feature_extraction.text import TfidfVectorizer\n",
    "from sklearn.cluster import KMeans\n",
    "import time\n",
    "from sklearn import metrics"
   ]
  },
  {
   "cell_type": "code",
   "execution_count": 4,
   "metadata": {},
   "outputs": [],
   "source": [
    "with open(\"/home/jovyan/ymslanda/supportnlp/tickets/all_tickets_and_comments.msgpack\", \"rb\") as f:\n",
    "    data = msgpack.load(f, raw=False)\n",
    "\n",
    "with open(\"stopwords.msgpack\", \"rb\") as f:\n",
    "    stop_words = msgpack.load(f)\n",
    "stop_words = set(stop_words).union(stopwords.words('english')).union(stopwords.words('norwegian'))"
   ]
  },
  {
   "cell_type": "code",
   "execution_count": 6,
   "metadata": {},
   "outputs": [],
   "source": [
    "msgfreq = {}\n",
    "for org in data.values():\n",
    "    for ticket in org.values():\n",
    "        for word in message.message(ticket[\"description\"] + \"  \" + ticket[\"subject\"], stopwords).dict:\n",
    "            if word not in msgfreq: msgfreq[word] = 0\n",
    "            msgfreq[word] += 1"
   ]
  },
  {
   "cell_type": "code",
   "execution_count": 7,
   "metadata": {},
   "outputs": [],
   "source": [
    "orderedmsgfreq = sorted((freq, word) for (word, freq) in msgfreq.items())"
   ]
  },
  {
   "cell_type": "code",
   "execution_count": 17,
   "metadata": {},
   "outputs": [],
   "source": [
    "msgs = []\n",
    "for orgid, org in data.items():\n",
    "    for ticketid, ticket in org.items():\n",
    "        m = message.message(ticket[\"description\"] + \"  \" + ticket[\"subject\"], stopwords)\n",
    "        m.orgid = orgid\n",
    "        m.ticketid = ticketid\n",
    "        msgs.append(m)"
   ]
  },
  {
   "cell_type": "markdown",
   "metadata": {},
   "source": [
    "## Possible distance measure between tickets for use in clustering\n",
    "Currently not used :("
   ]
  },
  {
   "cell_type": "code",
   "execution_count": 26,
   "metadata": {},
   "outputs": [],
   "source": [
    "conn = np.zeros((len(msgs), len(msgs)))\n",
    "for ai, a in enumerate(msgs):\n",
    "    for bi, b in enumerate(msgs):\n",
    "        conn[ai,bi] = len(a.dict.intersection(b.dict)) / len(a.dict.union(b.dict))\n",
    "\n",
    "ticketids = np.array(list(msg.ticketid for msg in msgs), dtype=\"i\")\n",
    "\n",
    "np.savez_compressed(\"connectivity_iou_description_subject.npz\", ticketids=ticketids, conn=conn)"
   ]
  },
  {
   "cell_type": "markdown",
   "metadata": {},
   "source": [
    "## Cluster tickets"
   ]
  },
  {
   "cell_type": "code",
   "execution_count": 158,
   "metadata": {},
   "outputs": [],
   "source": [
    "\n",
    "def tickets():\n",
    "    for org in data.values():\n",
    "        for ticket in org.values():\n",
    "            if ticket[\"subject\"] in (\"SQLdump\",):\n",
    "                continue\n",
    "            if len(ticket[\"description\"]) > 10000:\n",
    "                continue\n",
    "            yield ticket\n",
    "\n",
    "tickets = list(tickets())\n",
    "tickettexts = [re.sub(\"(\\\\w)://(\\\\w)\", \"\\\\1URL\\\\2\",\n",
    "                      re.sub(\"(\\\\w):(\\\\w)\", \"\\\\1COLON\\\\2\",\n",
    "                             re.sub(\"(\\\\w)/(\\\\w)\", \"\\\\1SLASH\\\\2\",\n",
    "                                    re.sub(\"(\\\\w)\\\\.(\\\\w)\", \"\\\\1DOT\\\\2\",\n",
    "                                         (\"%(subject)s %(description)s\" % ticket)))))\n",
    "              for ticket in tickets]"
   ]
  },
  {
   "cell_type": "code",
   "execution_count": 214,
   "metadata": {},
   "outputs": [
    {
     "name": "stdout",
     "output_type": "stream",
     "text": [
      "Clustering sparse data with KMeans(algorithm='auto', copy_x=True, init='k-means++', max_iter=1000,\n",
      "    n_clusters=100, n_init=1, n_jobs=1, precompute_distances='auto',\n",
      "    random_state=None, tol=0.0001, verbose=True)\n",
      "Initialization complete\n",
      "Iteration  0, inertia 2858.093\n",
      "Iteration  1, inertia 1662.802\n",
      "Iteration  2, inertia 1637.782\n",
      "Iteration  3, inertia 1625.238\n",
      "Iteration  4, inertia 1617.978\n",
      "Iteration  5, inertia 1613.457\n",
      "Iteration  6, inertia 1611.340\n",
      "Iteration  7, inertia 1610.060\n",
      "Iteration  8, inertia 1609.444\n",
      "Iteration  9, inertia 1609.368\n",
      "Iteration 10, inertia 1609.335\n",
      "Iteration 11, inertia 1609.303\n",
      "Converged at iteration 11: center shift 0.000000e+00 within tolerance 3.409213e-09\n",
      "done in 7.457s\n",
      "\n"
     ]
    }
   ],
   "source": [
    "vectorizer = TfidfVectorizer(use_idf=False, stop_words=stop_words)\n",
    "X = vectorizer.fit_transform(tickettexts)\n",
    "\n",
    "n_clusters = 100\n",
    "km = KMeans(n_clusters=n_clusters, init='k-means++', max_iter=1000, n_init=1,\n",
    "            verbose=True)\n",
    "    \n",
    "print(\"Clustering sparse data with %s\" % km)\n",
    "t0 = time.time()\n",
    "km.fit(X)\n",
    "print(\"done in %0.3fs\" % (time.time() - t0))\n",
    "print()\n",
    "\n",
    "\n",
    "#print(\"Top terms per cluster:\")\n",
    "#\n",
    "#order_centroids = km.cluster_centers_.argsort()[:, ::-1]\n",
    "#\n",
    "#terms = vectorizer.get_feature_names()\n",
    "#for i in range(n_clusters):\n",
    "#    print(\"Cluster %d:\" % i, end='')\n",
    "#    for ind in order_centroids[i, :10]:\n",
    "#        print(' %s' % terms[ind], end='')\n",
    "#    print()\n"
   ]
  },
  {
   "cell_type": "code",
   "execution_count": 162,
   "metadata": {},
   "outputs": [],
   "source": [
    "clustering = km.predict(X)"
   ]
  },
  {
   "cell_type": "code",
   "execution_count": 163,
   "metadata": {},
   "outputs": [],
   "source": [
    "clusterorder, clustercount = np.unique(clustering, return_counts=True)\n",
    "srt = clustercount.argsort()\n",
    "clusterorder = clusterorder[srt]\n",
    "clustercount = clustercount[srt]"
   ]
  },
  {
   "cell_type": "code",
   "execution_count": null,
   "metadata": {},
   "outputs": [],
   "source": [
    "clusteredtickets = {}\n",
    "for idx, ticket in enumerate(tickets):\n",
    "    if clustering[idx] not in clusteredtickets:\n",
    "        clusteredtickets[clustering[idx]] = []\n",
    "    clusteredtickets[clustering[idx]].append(ticket)\n"
   ]
  },
  {
   "cell_type": "markdown",
   "metadata": {},
   "source": [
    "## Some measures across all tickets"
   ]
  },
  {
   "cell_type": "code",
   "execution_count": 211,
   "metadata": {},
   "outputs": [
    {
     "data": {
      "image/png": "[encoded data removed]",
      "text/plain": [
       "<Figure size 432x288 with 1 Axes>"
      ]
     },
     "metadata": {},
     "output_type": "display_data"
    },
    {
     "data": {
      "image/png": "[encoded data removed]",
      "text/plain": [
       "<Figure size 432x288 with 1 Axes>"
      ]
     },
     "metadata": {},
     "output_type": "display_data"
    },
    {
     "data": {
      "image/png": "[encoded data removed]",
      "text/plain": [
       "<Figure size 432x288 with 1 Axes>"
      ]
     },
     "metadata": {},
     "output_type": "display_data"
    },
    {
     "data": {
      "image/png": "[encoded data removed]",
      "text/plain": [
       "<Figure size 432x288 with 1 Axes>"
      ]
     },
     "metadata": {},
     "output_type": "display_data"
    }
   ],
   "source": [
    "plt.hist(msgfreq.values(), log=True, bins=100)\n",
    "plt.title(\"Number of tickets vs word\")\n",
    "plt.xlabel(\"word\")\n",
    "plt.ylabel(\"nr. of tickets\")\n",
    "plt.show()\n",
    "\n",
    "plt.hist([len(ticket[\"description\"]) for ticket in tickets], log=True, bins=50)\n",
    "plt.title(\"Number of tickets vs length of description\")\n",
    "plt.xlabel(\"Description length (chars)\")\n",
    "plt.ylabel(\"nr. of tickets\")\n",
    "plt.show()\n",
    "\n",
    "plt.hist([len(msg.dict) for msg in msgs], log=True, bins=50)\n",
    "plt.title(\"Number of tickets vs number of unique words per ticket\")\n",
    "plt.xlabel(\"nr. of unique words / ticket\")\n",
    "plt.ylabel(\"nr. of tickets\")\n",
    "plt.show()\n",
    "\n",
    "plt.plot(clustercount)\n",
    "plt.title(\"Number of tickets per cluster\")\n",
    "plt.xlabel(\"cluster\")\n",
    "plt.ylabel(\"nr. of tickets\")\n",
    "plt.show()"
   ]
  },
  {
   "cell_type": "markdown",
   "metadata": {},
   "source": [
    "## Cluster example messages (subject lines)"
   ]
  },
  {
   "cell_type": "code",
   "execution_count": 197,
   "metadata": {
    "scrolled": false
   },
   "outputs": [
    {
     "name": "stdout",
     "output_type": "stream",
     "text": [
      "Cluster 70\n",
      "    New request created with ID: ##8810## from Medi Lausanne\n",
      "    CIELO DI CARTAGENA / NEW CREW REGISTRATION TO DUALOG\n",
      "    Alpine Hibiscus - Email Address Crew Members\n",
      "    HIGH STRENGTH : Crew ID and password\n",
      "    Medi Lausanne - e-Mail account for 3/E Vallega Vincent Caluban\n",
      "    HIGH STRENGTH : Crew ID and password\n",
      "    Alpine Maria / V 39 /RESETTING PASSWORD\n",
      "    Alpine Mary - Crew E-mail account\n",
      "    Maersk Mizushima: Request password reset for Crew Email ID\n",
      "    Alpine Hibiscus - Internet access fof supperintendent Sonsun Jacob\n",
      "Cluster 32\n",
      "    Re:##28825## : NIGHTHAWK - 20181023 - Re: ##28835## : MV Night Hawk : Dualog functionality issue Onboard\n",
      "    Fwd:##32308## : RE: ##32308## : MV Thrasher-personal email problem\n",
      "    RE: MV STELLAR EAGLE / SARTs batteries & VDR beacon / BUSAN\n",
      "    URGENT - Dualog connection error - Nighthawk\n",
      "    Re:##30934## : STONINGTON EAGLE - MMan Gitsa Oleksandr // e-mail box issue\n",
      "    [EXT] [Dualog] Re: URGENT - Dualog connection error - Nighthawk\n",
      "    Re:##28915## : mv Condor- Re: {SPAM?} 002condor@vesselmail.org [please check message] Incoming Mails Pending.\n",
      "    mv Madison Eagle. Dualog trouble.\n",
      "    Fwd:##33337## : Re: ##33337## : mv Crane: VEEMS program malfunction_ 03-Jan-2018\n",
      "    Re:##32651## : MV Capetown Eagle - New Take Over Vessel\n",
      "Cluster 69\n",
      "    BW Orion: K Chief Batch File\n",
      "    PNX/IMP/NAV /FBB Connection issue\n",
      "    FW: (dionysosleader@hkk.dualog.net) Mail storage exceeded\n",
      "    Shin Nichiho - //Request to release //Attachments quarantined by Dualog!} [Probable Virus] RE: RE:///// MISSING 609 //// [Probable Virus] HSEQ/NYK/039/18 \"e-MEI Upd\n",
      "    FW: Sapta Crewlist\n",
      "    Repeated Spam Mails to the Vessels\n",
      "    FW: Sapta Crewlist\n",
      "    FW: {Attachments quarantined by Dualog!} [~LKH-202-10292]: FW: CGC-CBT Computer (Failed to Log in)\n",
      "    // KIRANA QUARTYA : VOY. 31/18 ~ Crew wifi ID Register KQ\n",
      "    // KIRANA QUARTYA : Crew Wifi ID Request for Register\n",
      "Cluster 71\n",
      "    rename of vessels\n",
      "    reboot dualog pc\n",
      "    ubc cork;ubc cartage\n",
      "    vessels left management\n",
      "    report on emails sent/received\n",
      "    account needed for AFT\n",
      "    Fwd: himp messages to ships\n",
      "    MT Gunga\n",
      "    FW: UBC CHILE:\n",
      "    FW: Gazela Master dualog internet\n",
      "Cluster 18\n",
      "    [Fwd: ##74917## : Re: Request RESOLVED – Your Request with title \"Re: BW Everett - Iridium  System faulty\" - [ID ##74917##]]\n",
      "    Re: Fwd: Re: FwdRe: FwdRe: [Request ID :##74892##] : BW Gemini - Dualog Bridge Account to Have Access to ADP & eBooks Updates\n",
      "    BW Lynx - Undelivered Message\n",
      "    FwdRe: [Fwd: ##74389## : RE: [Request ID :##74389##] : Microsoft outlook attachment in BIS]\n",
      "    [Fwd: ##76115## : FW: Warning: could not send message for past 2 hours] Urgent\n",
      "    [Fwd: ##74334## : RE: [Request ID :##74334##] : BW Merlin - IT - Internet data usage for 3/E Patel Farzad (ID]\n",
      "    FW: [Request ID :##74112##] : BW Hawk- Bridge ID access to Admiralty sites\n",
      "    BW Amazon - Dualog ID Passwords reset\n",
      "    [Fwd: ##74114## : RE: [Request ID :##74114##] : Dualog Inaccessible - BW Orinoco] URGENT\n",
      "    RE: BW Cougar/V18/Spam emails received \" Urgent \"\n",
      "Cluster 48\n",
      "    Admin login\n",
      "    Pending Email\n",
      "    Remove mail?\n",
      "    Error message from 3.rd part\n",
      "    E-mail from crewpurser.ms@hurtigruten.com will not reach the shhip\n",
      "    Bytte av passord\n",
      "    Hurtigruten AS - Change e-mail address for user\n",
      "    FW: Dualog til Hurtigruten Roald Amundsen asap\n",
      "    Ang. Iridium Failover på E-Fangst Ipad løsning.\n",
      "    Havila Princess\n",
      "Cluster 98\n",
      "    Lysbøen - Venter på returmelding\n",
      "    Wikerøy, har problemer med å få åpnet Connection Suite.\n",
      "    ACK ikke videresendt til brettet\n",
      "    Fikk ikke kansellere COE, ble følgefeil som konsekvens\n",
      "    Geir 2, Har sendt feil mengde i DCA\n",
      "    GunnarK, guiding for bruk av SSN\n",
      "    Vestliner, Feil GPS kordinater\n",
      "    5 duplikata\n",
      "    Problemer med å motta mail Iridium\n",
      "     Suletrål, har sendt feil omlastningsmelding.\n",
      "Cluster 3\n",
      "    Dashboards\n",
      "    Stena Forecaster\n",
      "    Dualog not working on Connemara\n",
      "    Albert III\n",
      "    Eships Eagle\n",
      "    Sampson dualog connections\n",
      "    Malwarebytes exe file\n",
      "    Stena Freighter\n",
      "    Antivirus update issue - AF Michela\n",
      "    Dualog machine disk space\n",
      "Cluster 22\n",
      "    Urgent : Cannot open Dualog Connection Suite: MV JINSEI MARU\n",
      "    Port Number to be used by Connection Suite\n",
      "    Request to remove Conenction Suite\n",
      "    MV BAHRI WAFI / Warning: The DuaCorePro has failed locking the Tunnel\n",
      "    Shaden, not able to open Connection Suite\n",
      "    Shaden, Connection Suite page not opening\n",
      "    [Fwd: ##76245## : BW Egret: Unable to open Dualog Connection Suite]\n",
      "    Bw Orinoco: Cannot open Dualog connection suite\n",
      "    [Fwd: ##75821## : BW Yangtze: Cannot open Dualog Connection Suite]\n",
      "    Dualog mail /connection suite\n",
      "Cluster 34\n",
      "    URGENT - Shinryo Maru\n",
      "    Stuck message over FBB\n",
      "    Email processing error\n",
      "    Create new FBB profile\n",
      "    IVS Windsor - Email Connection Problem\n",
      "    Inquiry on 3G/4G auto fail-over when FBB failed\n",
      "    Email processing error\n",
      "    NEW VESSEL INSTALLATION - CONTRACT REQUISTION.\n",
      "    Create new VSAT profile\n",
      "    Start pack for Cielo Di Italia\n",
      "Cluster 9\n",
      "    Fwd: Eagle Verona - FBB500\n",
      "    Files sent to Bunga Kelana 8\n",
      "    Dualog Connection Suite\n",
      "    Add the following Ports - Dualog\n",
      "    RE: Block email address -Unblock\n",
      "    Dualog Test Vessels Account\n",
      "    Create FBB250 Startos profile for Paramount Hatteras\n",
      "    Unable to login to NS5 account\n",
      "    Paramount Hydra - XpressLink details\n",
      "    Bunga Kelana 4 release from Eaglestar\n",
      "Cluster 19\n",
      "    request to resend email\n",
      "    Fwd: {Attachments quarantined by Dualog!} FW: GMS SHARQI & GMS SHAMAL OCT 2018\n",
      "    Kirana Quintya - Receiving the Warnings emails\n",
      "    KIRANA TRITYA - Dualog Contract Advance Termination Notice\n",
      "    Vessel deactivation: Navigator Atlas\n",
      "    mv Nightwing - Connection Issues\n",
      "    Crown Sapphire - Left Our Management At St Petersburg - 12:00 Hours 27th November 2018\n",
      "    Re: creation of personal e-mails\n",
      "    Andalucia Carrier (IMO: 9057537) - Handover to new owners has taken place - 5th December 2018 - Masan, Korea (Dualog)\n",
      "    Fwd: Elbrus - Handover to New Owners - has taken place - 30th November 2018 - Las Palmas, Canary Islands\n",
      "Cluster 76\n",
      "    Re: [Request ID :##74973##] : Manual Creation of Personal Dualog Account\n",
      "    FwdRe: [Request ID :##76034##] : FW: BW ELM - NavBox not responding\n",
      "    [Fwd: ##75720## : COMPAS ONBOARD - BW TANKERS]\n",
      "    [Fwd: ##75443## : Unknown internet usage]\n",
      "    [Fwd: ##75160## : Wrong address in Dualog]\n",
      "    [Fwd: ##75318## : Access to Weather website]\n",
      "    [Fwd: ##76322## : BW Aries - Dualog Webmail Attachment Issue]\n",
      "    [Fwd: ##76310## : Re: [Request ID :##76310##] : Internet quota]\n",
      "    Re: [Request ID :##76812##] : FW: Warning: could not send message for past 2 hours\n",
      "    [Fwd: ##77073## : FW: Internet consumption problem]\n",
      "Cluster 13\n",
      "    BAHRI ARASCO - VIRUS SIGNATURE DATABASE IS OUT OF DATE\n",
      "    Niban /Antivirus detect\n",
      "    FW: OPENPORT 8988169777000257699 - HIGH USAGE ALERT (DATA) - LAYLA - NOV 18\n",
      "    NCC Tabuk issue\n",
      "    - RE: NCC TABUK / IT / Problems with sending/receiving mail. -\n",
      "    JALADI Dualog\n",
      "    Sahba /Dualog Antivirus update\n",
      "    FW: Videotel Update for Karco & Company Specific training Videos\n",
      "    FW: INC201820753 - SAHBA / IT / REPLICATION\n",
      "    FW: Internal ship communication on NCC RABIGH\n",
      "Cluster 55\n",
      "    Columbia Highway\n",
      "    Re: MDM_Dyna_Voyager is Down :[#CAS-50731-L5Y1C8]\n",
      "    RE: Sunshine Bandama - Email\n",
      "    Re: New Activation order: EOS Esperance under New Century Overseas\n",
      "    Duplication mail: One Cosmos\n",
      "    Re: NOSHIRO MARU // REQUEST TO RECEIVE MESSAGE\n",
      "    RE: Sunshine Bandama - Email\n",
      "    Re: Sunshine Bandama - Email\n",
      "    FW: New Activation order: MURORAN under HACHIUMA\n",
      "    Resending message request: MV IKAN KEDEWAS\n",
      "Cluster 15\n",
      "    BW Panther : Joined crew PW reset\n",
      "    BW Panther : Crew PW reset\n",
      "    BW Panther : Crew PW reset\n",
      "    BW Panther : Crew PW reset\n",
      "    Crew account for office superintendent\n",
      "    CREW'S MAIL FOR NEW SIGNED ON CREWS\n",
      "    Staionary account creation: Crew Sea Triumph\n",
      "    SEASTAR ENDURANCE - MAIL BOX FOR CREW\n",
      "    River Oak / Request of new crew account\n",
      "    Storholmen _new accounts request\n",
      "Cluster 47\n",
      "    FW: {Attachments quarantined by Dualog!} Re: RE: {Attachments quarantined by Dualog!} LNG/C ONAIZA / DAPENG, GUANGDONG / WELCOME LETTER & PORT GUIDANCE/Pre arrival docs 1\n",
      "    RE: {Attachments quarantined by Dualog!} FW: DUB - NCC NAJD / PURCH / Provision UAE November WRIST\n",
      "    NCC NAJEM / TECH / WIFI PASSWORDS\n",
      "    Bahri Jasmine : Receiving ENC\n",
      "    FW: Export for Backup Failed\n",
      "    FW: Warning: The DuaCorePro has failed locking the Tunnel\n",
      "    FW: {Attachments quarantined by Dualog!} 853/DATA/6524/2018/11/15-5-2/2\n",
      "    NCC TABUK / Frequent interruptions during Email communication\n",
      "    Karan - internet access for on-signer\n",
      "    MMA Chieftain: outbox messages\n",
      "Cluster 96\n",
      "    Themis Triumph FBB is not reachable and unable to make connection\n",
      "    Request for Support - Mineral Haiku\n",
      "    Dualog connection takes longer time\n",
      "    VSAT and FBB unable to make connection\n",
      "    VSAT Error open IP\n",
      "    NCC Noor unable to make connection for past 4hrs\n",
      "    FBB unable to make connection\n",
      "    Error Open IP | No Network control\n",
      "    Dualog - Connecting via FBB BG IP\n",
      "    Unable to connect with DCS\n",
      "Cluster 31\n",
      "    Golar Crystal | Dualog Auto-Redirection not working\n",
      "    Client Computer Cannot Update ESET Antivirus\n",
      "    Recover Lost Email for Golar Crystal\n",
      "    Website blocked in Dualog\n",
      "    Golar Maria - Captain Missing e-mail\n",
      "    Requesting to Release Blocked Attachment\n",
      "    Golar Glacier - Crew wireless unable get valid DHCP\n",
      "    FW: {Virus?} RE: MSS Marlink Ticket [386718] - Golar Management Norway AS | Golar Lng ref:RE: Golar Maria/ Felcom 18\n",
      "    FW: {Virus?} RE: MSS Marlink Ticket [386718] - Golar Management Norway AS | Golar Lng ref:RE: Golar Maria/ Felcom 18\n",
      "    Share calendar\n",
      "Cluster 41\n",
      "    Fwd: Cardinal Victory - Update for DUALOG ESET Endpoint Antivirus\n",
      "    Re: FW: Cardinal Victory - Update for DUALOG ESET Endpoint Antivirus\n",
      "    Sunny Rainbow V-21 RE: Antivirus Update: Sunny Rainbow\n",
      "    Antivirus installing and update on standalone client PC : MV Sunny Rainbow\n",
      "    Fwd: Antivirus Update: Sunny Rainbow\n",
      "    AV not updating\n",
      "    Golden Sirius Eset Server not updating\n",
      "    Golden Dream Antivirus server older version not able to uninstall\n",
      "    PUMA: Problems to send messages from @vsl.humboldt.cl to domain @naustik.com\n",
      "    Fwd: PUMA/03102018 - FW: Returned mail: @BRSBROKERS.COM\n",
      "Cluster 61\n",
      "    Dualog account password\n",
      "    P/W reset\n",
      "    FW: [Request received] FW: crew password\n",
      "    Email issues on the Golar Grand\n",
      "    Reset HW ID\n",
      "    RE: Network control on Golar vessels\n",
      "    dualog register internet problem\n",
      "    Reset vessel account password\n",
      "    KIRANA SAPTA\n",
      "    Password reset\n",
      "Cluster 7\n",
      "    Bahri Rose, not able to open Dualog Page.\n",
      "    DCS page freeze\n",
      "    NCC noor, Dualog not working\n",
      "    Shaden, Dualog Page not opening\n",
      "    Unable to access Dualog page\n",
      "    Karan unable to send receive email on Master PC\n",
      "    Oracle down\n",
      "    NCC Noor. Dualog page not opening.\n",
      "    Dualog page unable to open due to Oracle\n",
      "    Dualog unable to open the Dualog Page.\n",
      "Cluster 4\n",
      "    MT Chemroad Lily / The Request for the assistance\n",
      "    Chemroad Quest - New crew registraion\n",
      "    RE://Request New dualog account for New Joining Crew- User ID and password /Yodohime /\n",
      "    Jipro Isis // Request to Enroll New WiFi Users\n",
      "    CHEMROAD SIRIUS - REGISTER DUALOG CREW E-MAIL ADDRESS\n",
      "    Jipro Isis // Request to Enroll New WiFi Users\n",
      "    Chemroad Quest - New crew registraion\n",
      "    CHEMROAD WING: CREW ID / PASSWORD FOR NEW JOINED CREW\n",
      "    Chemroad Quest - New crew registraion\n",
      "    Caribbean Spirit //--- Personal Dualog Account (Password) for Crew Member\n",
      "Cluster 6\n",
      "    AST Usage Alert SIM: 898709911414167837 | Vessel: Jaya Chieftain\n",
      "    AST Usage Alert SIM: 898709911414167837 | Vessel: Jaya Chieftain\n",
      "    AST Usage Alert SIM: 898709909414127068 | Vessel: CSL Elbe\n",
      "    AST Usage Alert SIM: 898709909414127068 | Vessel: CSL Elbe\n",
      "    071593: [Dualog] Urgent: CSL Rhine and CSL Elbe Data activation\n",
      "    AST Usage Alert SIM: 898709909414127068 | Vessel: CSL Elbe\n",
      "    071593: [Dualog] Urgent: CSL Rhine and CSL Elbe Data activation\n",
      "    AST Alert - Auto Data Suspension Pending SIM: 898709909414127068 | Vessel: CSL Elbe\n",
      "    AST Usage Alert SIM: 898709909414127068 | Vessel: CSL Elbe\n",
      "    AST Usage Alert SIM: 898709911414167837 | Vessel: Jaya Chieftain\n",
      "Cluster 44\n",
      "    vessel Name Change\n",
      "    Email issue - Cielo di San Francisco\n",
      "    Glenda Meryl - Dualog Backup OLD Folder\n",
      "    Resend the emails.\n",
      "    FW: NEW CREW INTERNET\n",
      "    Allow URL's for D’Amico Fleet and Ishima Fleet\n",
      "    FW: Medi Palmarola: BWTS file\n",
      "    RE: Cielo di Tampa , remove wrong address email\n",
      "    RE: HIGH VALOR - Communication issue\n",
      "    Cielo Di Sanfrancisco Dualog email issue\n",
      "Cluster 27\n",
      "    Fwd: MV MINERAL HAIKU - CREW EMAIL PROBLEM\n",
      "    FW: Soyo - Crew WiFi\n",
      "    Unable to surf on crew wifi\n",
      "    Jaladi / 1280 / New Crew ID's\n",
      "    VSAT having issues connecting.\n",
      "    Shinryo Maru New USB Lan Adaptor replacement setup\n",
      "    MV SAGE SAGITTARIUS V. 173 - UNEXPLAINED EXCESSIVE DATA CONSUMPTION\n",
      "    MV Emerald Horizon V.24L - Requesting Crew Email Access at Dualog\n",
      "    Albatross - Request Crew Email address\n",
      "    Crew wifi unable to access the Internet\n",
      "Cluster 90\n",
      "    KAPRIJEK: Atatchment Blocked\n",
      "    KAPRIJKE: Blocked attachment\n",
      "    RE: //2nd REMINDER//MV ULTRA CORY - VSAT INSTALLATION/Change e-mail (MARIX)\n",
      "    RE: RESEND WITH FULL STYLE AGENT ///MDM_Dyna_Voyager is Down :[#CAS-50731-L5Y1C8]\n",
      "    RE: RE: MV ULTRA CORY - VSAT INSTALLATION/Change e-mail (MARIX)\n",
      "    //REMINDER//MV ULTRA CORY - VSAT INSTALLATION/Change e-mail (MARIX)\n",
      "    FW: VECCHIO BRIDGE V.113W Ships email connection fail\n",
      "    Re: VECCHIOBRIDGE / V.112E / Confirm ship's email capacity\n",
      "    MV Bahri Wafi / Dualog / No communication via 192.168.1.1\n",
      "    MV Bahri Wafi / New Crew Internet Access via Dualog\n"
     ]
    }
   ],
   "source": [
    "for clusterid in idx[(cnt > 25) & (cnt < 70)]:\n",
    "    print(\"Cluster %s\" % clusterid)\n",
    "    for t in clusteredtickets[clusterid][:10]:\n",
    "        print(\"    %(subject)s\" % t)"
   ]
  },
  {
   "cell_type": "markdown",
   "metadata": {},
   "source": [
    "## Most common words in descriptions"
   ]
  },
  {
   "cell_type": "code",
   "execution_count": 212,
   "metadata": {},
   "outputs": [
    {
     "name": "stdout",
     "output_type": "stream",
     "text": [
      "crew 449\n",
      "bridge 451\n",
      "captain 455\n",
      "vsat 509\n",
      "mobile 516\n",
      "http 526\n",
      "phone 556\n",
      "fax 682\n",
      "fbb 686\n",
      "tel 702\n"
     ]
    }
   ],
   "source": [
    "for f, word in orderedmsgfreq[-10:]:\n",
    "    print(word, f)"
   ]
  },
  {
   "cell_type": "code",
   "execution_count": null,
   "metadata": {},
   "outputs": [],
   "source": []
  }
 ],
 "metadata": {
  "kernelspec": {
   "display_name": "Python 3",
   "language": "python",
   "name": "python3"
  },
  "language_info": {
   "codemirror_mode": {
    "name": "ipython",
    "version": 3
   },
   "file_extension": ".py",
   "mimetype": "text/x-python",
   "name": "python",
   "nbconvert_exporter": "python",
   "pygments_lexer": "ipython3",
   "version": "3.6.3"
  }
 },
 "nbformat": 4,
 "nbformat_minor": 2
}
