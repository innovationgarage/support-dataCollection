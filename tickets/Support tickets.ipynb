{
 "cells": [
  {
   "cell_type": "code",
   "execution_count": 2,
   "metadata": {},
   "outputs": [
    {
     "data": {
      "text/plain": [
       "b''"
      ]
     },
     "execution_count": 2,
     "metadata": {},
     "output_type": "execute_result"
    }
   ],
   "source": [
    "import subprocess\n",
    "subprocess.check_output([\"pip\", \"install\", \"nltk\"])\n",
    "\n",
    "subprocess.check_output([\"python\", \"-m\", \"nltk.downloader\", \"all\"])"
   ]
  },
  {
   "cell_type": "code",
   "execution_count": 3,
   "metadata": {},
   "outputs": [
    {
     "name": "stdout",
     "output_type": "stream",
     "text": [
      "Populating the interactive namespace from numpy and matplotlib\n"
     ]
    }
   ],
   "source": [
    "%pylab inline\n",
    "import msgpack\n",
    "import nltk\n",
    "\n",
    "import message"
   ]
  },
  {
   "cell_type": "code",
   "execution_count": 4,
   "metadata": {},
   "outputs": [],
   "source": [
    "with open(\"/home/jovyan/ymslanda/supportnlp/tickets/all_tickets_and_comments.msgpack\", \"rb\") as f:\n",
    "    data = msgpack.load(f, raw=False)"
   ]
  },
  {
   "cell_type": "code",
   "execution_count": 29,
   "metadata": {},
   "outputs": [
    {
     "name": "stdout",
     "output_type": "stream",
     "text": [
      "Heisan\n",
      "\n",
      "Nå har jeg brukt eCatch i en tur og funnet det lett å jobbe med. \n",
      "Nu bittter vi skippar  hann som kommer nu heder \n",
      "Helgi Sigvaldason \n",
      "helgi.jobb@gmail.com \n",
      "95784028\n",
      "Han må få brukernavn og passord\n",
      "\n",
      "\n",
      "Sigvaldi Thorsteinsson\n",
      "Kløfta 4\n",
      "9750 Honningsvåg\n",
      "Norge\n",
      "mobile:95862149\n"
     ]
    }
   ],
   "source": [
    "print(data[360000095711][54656][\"description\"])"
   ]
  },
  {
   "cell_type": "code",
   "execution_count": 30,
   "metadata": {},
   "outputs": [
    {
     "name": "stdout",
     "output_type": "stream",
     "text": [
      "Heisan\n",
      "\n",
      "Nå har jeg brukt eCatch i en tur og funnet det lett å jobbe med. \n",
      "Nu bittter vi skippar  hann som kommer nu heder \n",
      "Helgi Sigvaldason \n",
      "helgi.jobb@gmail.com \n",
      "95784028\n",
      "Han må få brukernavn og passord\n",
      "\n",
      "\n",
      "Sigvaldi Thorsteinsson\n",
      "Kløfta 4\n",
      "9750 Honningsvåg\n",
      "Norge\n",
      "mobile:95862149\n"
     ]
    }
   ],
   "source": [
    "print(data[360000095711][54656][\"description\"])"
   ]
  },
  {
   "cell_type": "code",
   "execution_count": 8,
   "metadata": {},
   "outputs": [],
   "source": [
    "m = message.message(data[360000095711][54656][\"description\"])"
   ]
  },
  {
   "cell_type": "code",
   "execution_count": 11,
   "metadata": {},
   "outputs": [],
   "source": [
    "m.add_stop_words(['master', 'dualog', 'day', 'subject', 'dear'])"
   ]
  },
  {
   "cell_type": "code",
   "execution_count": 12,
   "metadata": {},
   "outputs": [],
   "source": [
    "m.cleanup()"
   ]
  },
  {
   "cell_type": "code",
   "execution_count": 20,
   "metadata": {},
   "outputs": [],
   "source": [
    "m.get_top_words(n=3)"
   ]
  },
  {
   "cell_type": "code",
   "execution_count": 22,
   "metadata": {},
   "outputs": [
    {
     "data": {
      "text/plain": [
       "[('nu', 2), ('heisan', 1), ('brukt', 1)]"
      ]
     },
     "execution_count": 22,
     "metadata": {},
     "output_type": "execute_result"
    }
   ],
   "source": [
    "m.topwords"
   ]
  },
  {
   "cell_type": "code",
   "execution_count": null,
   "metadata": {},
   "outputs": [],
   "source": []
  }
 ],
 "metadata": {
  "kernelspec": {
   "display_name": "Python 3",
   "language": "python",
   "name": "python3"
  }
 },
 "nbformat": 4,
 "nbformat_minor": 2
}
