{
 "cells": [
  {
   "cell_type": "code",
   "execution_count": 2,
   "metadata": {},
   "outputs": [
    {
     "data": {
      "text/plain": [
       "b''"
      ]
     },
     "execution_count": 2,
     "metadata": {},
     "output_type": "execute_result"
    }
   ],
   "source": [
    "import subprocess\n",
    "subprocess.check_output([\"pip\", \"install\", \"nltk\"])\n",
    "\n",
    "subprocess.check_output([\"python\", \"-m\", \"nltk.downloader\", \"all\"])"
   ]
  },
  {
   "cell_type": "code",
   "execution_count": 3,
   "metadata": {},
   "outputs": [
    {
     "name": "stdout",
     "output_type": "stream",
     "text": [
      "Populating the interactive namespace from numpy and matplotlib\n"
     ]
    }
   ],
   "source": [
    "%pylab inline\n",
    "import msgpack\n",
    "import nltk\n",
    "import sklearn.cluster\n",
    "import message\n",
    "import re\n",
    "from nltk.corpus import stopwords\n",
    "from sklearn.feature_extraction.text import CountVectorizer\n",
    "from sklearn.feature_extraction.text import TfidfTransformer\n",
    "from sklearn.feature_extraction.text import TfidfVectorizer\n",
    "from sklearn.cluster import KMeans\n",
    "import time\n",
    "from sklearn import metrics"
   ]
  },
  {
   "cell_type": "code",
   "execution_count": 4,
   "metadata": {},
   "outputs": [],
   "source": [
    "with open(\"/home/jovyan/ymslanda/supportnlp/tickets/all_tickets_and_comments.msgpack\", \"rb\") as f:\n",
    "    data = msgpack.load(f, raw=False)\n",
    "\n",
    "with open(\"stopwords.msgpack\", \"rb\") as f:\n",
    "    stop_words = msgpack.load(f)\n",
    "stop_words = set(stop_words).union(stopwords.words('english')).union(stopwords.words('norwegian'))"
   ]
  },
  {
   "cell_type": "code",
   "execution_count": 6,
   "metadata": {},
   "outputs": [],
   "source": [
    "msgfreq = {}\n",
    "for org in data.values():\n",
    "    for ticket in org.values():\n",
    "        for word in message.message(ticket[\"description\"] + \"  \" + ticket[\"subject\"], stopwords).dict:\n",
    "            if word not in msgfreq: msgfreq[word] = 0\n",
    "            msgfreq[word] += 1"
   ]
  },
  {
   "cell_type": "code",
   "execution_count": 7,
   "metadata": {},
   "outputs": [],
   "source": [
    "orderedmsgfreq = sorted((freq, word) for (word, freq) in msgfreq.items())"
   ]
  },
  {
   "cell_type": "code",
   "execution_count": 17,
   "metadata": {},
   "outputs": [],
   "source": [
    "msgs = []\n",
    "for orgid, org in data.items():\n",
    "    for ticketid, ticket in org.items():\n",
    "        m = message.message(ticket[\"description\"] + \"  \" + ticket[\"subject\"], stopwords)\n",
    "        m.orgid = orgid\n",
    "        m.ticketid = ticketid\n",
    "        msgs.append(m)"
   ]
  },
  {
   "cell_type": "markdown",
   "metadata": {},
   "source": [
    "## Possible distance measure between tickets for use in clustering\n",
    "Currently not used :("
   ]
  },
  {
   "cell_type": "code",
   "execution_count": 26,
   "metadata": {},
   "outputs": [],
   "source": [
    "conn = np.zeros((len(msgs), len(msgs)))\n",
    "for ai, a in enumerate(msgs):\n",
    "    for bi, b in enumerate(msgs):\n",
    "        conn[ai,bi] = len(a.dict.intersection(b.dict)) / len(a.dict.union(b.dict))\n",
    "\n",
    "ticketids = np.array(list(msg.ticketid for msg in msgs), dtype=\"i\")\n",
    "\n",
    "np.savez_compressed(\"connectivity_iou_description_subject.npz\", ticketids=ticketids, conn=conn)"
   ]
  },
  {
   "cell_type": "markdown",
   "metadata": {},
   "source": [
    "## Cluster tickets"
   ]
  },
  {
   "cell_type": "code",
   "execution_count": 158,
   "metadata": {},
   "outputs": [],
   "source": [
    "\n",
    "def tickets():\n",
    "    for org in data.values():\n",
    "        for ticket in org.values():\n",
    "            if ticket[\"subject\"] in (\"SQLdump\",):\n",
    "                continue\n",
    "            if len(ticket[\"description\"]) > 10000:\n",
    "                continue\n",
    "            yield ticket\n",
    "\n",
    "tickets = list(tickets())\n",
    "tickettexts = [re.sub(\"(\\\\w)://(\\\\w)\", \"\\\\1URL\\\\2\",\n",
    "                      re.sub(\"(\\\\w):(\\\\w)\", \"\\\\1COLON\\\\2\",\n",
    "                             re.sub(\"(\\\\w)/(\\\\w)\", \"\\\\1SLASH\\\\2\",\n",
    "                                    re.sub(\"(\\\\w)\\\\.(\\\\w)\", \"\\\\1DOT\\\\2\",\n",
    "                                         (\"%(subject)s %(description)s\" % ticket)))))\n",
    "              for ticket in tickets]"
   ]
  },
  {
   "cell_type": "code",
   "execution_count": 224,
   "metadata": {},
   "outputs": [
    {
     "name": "stdout",
     "output_type": "stream",
     "text": [
      "Clustering sparse data with KMeans(algorithm='auto', copy_x=True, init='k-means++', max_iter=1000,\n",
      "    n_clusters=100, n_init=1, n_jobs=1, precompute_distances='auto',\n",
      "    random_state=None, tol=0.0001, verbose=True)\n",
      "Initialization complete\n",
      "Iteration  0, inertia 2586.963\n",
      "Iteration  1, inertia 1539.195\n",
      "Iteration  2, inertia 1510.340\n",
      "Iteration  3, inertia 1497.996\n",
      "Iteration  4, inertia 1492.537\n",
      "Iteration  5, inertia 1489.077\n",
      "Iteration  6, inertia 1486.914\n",
      "Iteration  7, inertia 1485.506\n",
      "Iteration  8, inertia 1484.921\n",
      "Iteration  9, inertia 1484.789\n",
      "Iteration 10, inertia 1484.637\n",
      "Iteration 11, inertia 1484.395\n",
      "Iteration 12, inertia 1484.281\n",
      "Iteration 13, inertia 1484.224\n",
      "Converged at iteration 13: center shift 0.000000e+00 within tolerance 3.199287e-09\n",
      "done in 9.943s\n",
      "\n"
     ]
    }
   ],
   "source": [
    "vectorizer = TfidfVectorizer(use_idf=False, stop_words=stop_words)\n",
    "X = vectorizer.fit_transform(tickettexts)\n",
    "\n",
    "n_clusters = 100\n",
    "km = KMeans(n_clusters=n_clusters, init='k-means++', max_iter=1000, n_init=1,\n",
    "            verbose=True)\n",
    "    \n",
    "print(\"Clustering sparse data with %s\" % km)\n",
    "t0 = time.time()\n",
    "km.fit(X)\n",
    "print(\"done in %0.3fs\" % (time.time() - t0))\n",
    "print()\n",
    "\n",
    "\n",
    "#print(\"Top terms per cluster:\")\n",
    "#\n",
    "#order_centroids = km.cluster_centers_.argsort()[:, ::-1]\n",
    "#\n",
    "#terms = vectorizer.get_feature_names()\n",
    "#for i in range(n_clusters):\n",
    "#    print(\"Cluster %d:\" % i, end='')\n",
    "#    for ind in order_centroids[i, :10]:\n",
    "#        print(' %s' % terms[ind], end='')\n",
    "#    print()\n"
   ]
  },
  {
   "cell_type": "code",
   "execution_count": 225,
   "metadata": {},
   "outputs": [],
   "source": [
    "clustering = km.predict(X)"
   ]
  },
  {
   "cell_type": "code",
   "execution_count": 226,
   "metadata": {},
   "outputs": [],
   "source": [
    "clusterorder, clustercount = np.unique(clustering, return_counts=True)\n",
    "srt = clustercount.argsort()\n",
    "clusterorder = clusterorder[srt]\n",
    "clustercount = clustercount[srt]"
   ]
  },
  {
   "cell_type": "code",
   "execution_count": 227,
   "metadata": {},
   "outputs": [],
   "source": [
    "clusteredtickets = {}\n",
    "for idx, ticket in enumerate(tickets):\n",
    "    if clustering[idx] not in clusteredtickets:\n",
    "        clusteredtickets[clustering[idx]] = []\n",
    "    clusteredtickets[clustering[idx]].append(ticket)\n"
   ]
  },
  {
   "cell_type": "markdown",
   "metadata": {},
   "source": [
    "## Some measures across all tickets"
   ]
  },
  {
   "cell_type": "code",
   "execution_count": 228,
   "metadata": {},
   "outputs": [
    {
     "data": {
      "image/png": "[encoded data removed]",
      "text/plain": [
       "<Figure size 432x288 with 1 Axes>"
      ]
     },
     "metadata": {},
     "output_type": "display_data"
    },
    {
     "data": {
      "image/png": "[encoded data removed]",
      "text/plain": [
       "<Figure size 432x288 with 1 Axes>"
      ]
     },
     "metadata": {},
     "output_type": "display_data"
    },
    {
     "data": {
      "image/png": "[encoded data removed]",
      "text/plain": [
       "<Figure size 432x288 with 1 Axes>"
      ]
     },
     "metadata": {},
     "output_type": "display_data"
    },
    {
     "data": {
      "image/png": "[encoded data removed]",
      "text/plain": [
       "<Figure size 432x288 with 1 Axes>"
      ]
     },
     "metadata": {},
     "output_type": "display_data"
    }
   ],
   "source": [
    "plt.hist(msgfreq.values(), log=True, bins=100)\n",
    "plt.title(\"Number of tickets vs word\")\n",
    "plt.xlabel(\"word\")\n",
    "plt.ylabel(\"nr. of tickets\")\n",
    "plt.show()\n",
    "\n",
    "plt.hist([len(ticket[\"description\"]) for ticket in tickets], log=True, bins=50)\n",
    "plt.title(\"Number of tickets vs length of description\")\n",
    "plt.xlabel(\"Description length (chars)\")\n",
    "plt.ylabel(\"nr. of tickets\")\n",
    "plt.show()\n",
    "\n",
    "plt.hist([len(msg.dict) for msg in msgs], log=True, bins=50)\n",
    "plt.title(\"Number of tickets vs number of unique words per ticket\")\n",
    "plt.xlabel(\"nr. of unique words / ticket\")\n",
    "plt.ylabel(\"nr. of tickets\")\n",
    "plt.show()\n",
    "\n",
    "plt.plot(clustercount)\n",
    "plt.title(\"Number of tickets per cluster\")\n",
    "plt.xlabel(\"cluster\")\n",
    "plt.ylabel(\"nr. of tickets\")\n",
    "plt.show()"
   ]
  },
  {
   "cell_type": "markdown",
   "metadata": {},
   "source": [
    "## Cluster example messages (subject lines)"
   ]
  },
  {
   "cell_type": "code",
   "execution_count": 229,
   "metadata": {
    "scrolled": false
   },
   "outputs": [
    {
     "name": "stdout",
     "output_type": "stream",
     "text": [
      "Cluster 5\n",
      "    FW: //Dualog Attachment//FW: {Attachments quarantined by Dualog!} JANESIA ASPHALT VI - IMO DCS REPORTING TEMPLATE\n",
      "    FW: //Dualog Attachment//FW: <SY>Regarding the IMO DCS Reporting Template\n",
      "    FW: //Dualog Attachment//FW: <SY>Regarding the IMO DCS Reporting Template\n",
      "    Fwd: Received from 62243275\n",
      "    Golden Vega : Navtor IP rules configuration request\n",
      "    FW: {Attachments quarantined by Dualog!} <SY>KIRANA HASTA - IMO DCS REPORT STANDARD TEMPLATE\n",
      "    Fwd: golden fortune - internet unavailable\n",
      "    Golden Sirius_VSAT profile creation\n",
      "    Repeated Spam Mails to the Vessels\n",
      "    FW: Golden Sirius_Crew List for VSAT_Usage\n",
      "Cluster 41\n",
      "    This is a message from the Connection Suite E-Mail...\n",
      "    RE: {Attachments quarantined by Dualog!} Noon Reporting Tool Installation Instructions for SRV\n",
      "    Sonangol Sambizanga - Dualog Attachment Warning\n",
      "    Fwd: {Attachments quarantined by Dualog!} VMR FOR January 2019\n",
      "    MV SHOHAKU // Request for the original e-mail attachment\n",
      "    RE: DPL // REQUEST FOR ATTACHMENT\n",
      "    Quarantined CMAX Attachment Retrieval\n",
      "    FW: {Virus?} RE: ///Special offer/// SIM Card Sales from Nagoya & Yokkaichi agents <On 18th of FEB.>\n",
      "    Golden Altair Navtor Update Blocked by Dualog\n",
      "    Disco rimovibile.zip\n",
      "Cluster 12\n",
      "    Fwd: NYK Virgo: Activation of Internet for New joiners.\n",
      "    Fwd: INTERNET account of 4/e\n",
      "    FW: {Virus?} Package from MSPS Office - System Generated Mail\n",
      "    Test mail from FX\n",
      "    Fwd: NYK OLYMPUS / Unable To Make Purchase For Internet\n",
      "    FW: MAERSK SHAMS : DUALOG CREW INTERNET ISSUE\n",
      "    Fwd: MAERSK SHAMS : DUALOG ID'S FOR NEW JOINERS\n",
      "    [Dualog] Re: Fwd: Maersk Shams- Registration of new crew to Internet account\n",
      "    FW: MAERSK SHAMS/ VESSEL COMMUNICATION - CREW INTERNET RECHARGE PROBLEM.\n",
      "    Fwd: NYK Virgo: Activation of Internet for New joiners.\n",
      "Cluster 61\n",
      "    Ocean Explorer (9VEK5) - REQUEST EMAIL ACCESS ( URGENT )\n",
      "    WU YI SAN 19.01.09 REQUEST EMAIL ACCESS GRANTED\n",
      "    RE: OCEAN LYNX - REQUEST DOMAIN / EMAIL ADDRESSES ACCESS\n",
      "    RE: OCEAN TRADER - email access\n",
      "    OCEAN AUTUMN - REQUEST EMAIL ACCESS GRANTED / WHITE LIST (V23L/18)\n",
      "    Ocean Sunrise - Request access to Email\n",
      "    OCEAN AUTUMN - REQUEST EMAIL ACCESS GRANTED / WHITE LIST ( 01/19 )\n",
      "    FW: DONG TING HU - REQUEST EMAIL ACCESS GRANTED / WHITE LIST\n",
      "    DONG JIANG (9VHR4) - REQUEST EMAIL ACCESS ( URGENT )\n",
      "    FW: OCEAN AUTUMN - REQUEST EMAIL ACCESS GRANTED / WHITE LIST (V23L/18)\n",
      "Cluster 25\n",
      "    Klaveness | Barracuda\n",
      "    Re: Windows Firewall preventing Dualog Connection suite from being launched\n",
      "    Sea Spider - New Ulstein IAS\n",
      "    OSM | Eagle Barents\n",
      "    KeepUp@Sea Ticket [405837] - Sea Titus ref:RE: [#4756810] - Normand Titus: Voyager issue\n",
      "    KeepUp@Sea Ticket [411854] - Sea Titus ref:Server\n",
      "    Sea Frost - Ulstein IAS\n",
      "    KeepUp@Sea Ticket [410531] - Kl Sandefjord\n",
      "    KeepUp@Sea Ticket [405837] - Sea Titus ref:RE: [#4756810] - Normand Titus: Voyager issue\n",
      "    Startpack for new installation - BARRAMUNDI\n",
      "Cluster 22\n",
      "    vessel Name Change\n",
      "    Email issue - Cielo di San Francisco\n",
      "    Glenda Meryl - Dualog Backup OLD Folder\n",
      "    Resend the emails.\n",
      "    Allow URL's for D’Amico Fleet and Ishima Fleet\n",
      "    Cielo Di Sanfrancisco Dualog email issue\n",
      "    Cielo Di Rotterdam - IMAP Backup\n",
      "    Reset password\n",
      "    Glenda Meryl_IMAP backup\n",
      "    Medi Serapo_IMAP BackUp\n",
      "Cluster 18\n",
      "    Re:##28825## : NIGHTHAWK - 20181023 - Re: ##28835## : MV Night Hawk : Dualog functionality issue Onboard\n",
      "    Fwd:##32308## : RE: ##32308## : MV Thrasher-personal email problem\n",
      "    RE: MV STELLAR EAGLE / SARTs batteries & VDR beacon / BUSAN\n",
      "    URGENT - Dualog connection error - Nighthawk\n",
      "    Re:##30934## : STONINGTON EAGLE - MMan Gitsa Oleksandr // e-mail box issue\n",
      "    [EXT] [Dualog] Re: URGENT - Dualog connection error - Nighthawk\n",
      "    Re:##28915## : mv Condor- Re: {SPAM?} 002condor@vesselmail.org [please check message] Incoming Mails Pending.\n",
      "    Fwd:##28403## : MV GREBE BULKER - 045grebebulker@vesselmail.org was hacked\n",
      "    mv Madison Eagle. Dualog trouble.\n",
      "    Re:##28410## : mv Golden Eagle - 033goldeneagle@vesselmail.org was hacked\n",
      "Cluster 86\n",
      "    Re: MDM_Dyna_Voyager is Down :[#CAS-50731-L5Y1C8]\n",
      "    Re: New Activation order: EOS Esperance under New Century Overseas\n",
      "    Duplication mail: One Cosmos\n",
      "    FW: New Activation order: MURORAN under HACHIUMA\n",
      "    Fwd: VAN HARMONY / Terminate Email Service on Feb-2019\n",
      "    RE: //2nd REMINDER//MV ULTRA CORY - VSAT INSTALLATION/Change e-mail (MARIX)\n",
      "    Resending message request: MV IKAN KEDEWAS\n",
      "    New Activation order: CAPE RAINBOW under Toyo Shipping\n",
      "    RE: RE: MV ULTRA CORY - VSAT INSTALLATION/Change e-mail (MARIX)\n",
      "    Sunny Rainbow V-21 RE: Antivirus Update: Sunny Rainbow\n",
      "Cluster 54\n",
      "    RE: [Request received] Vessel \"Zambesi\" handed over to new management - cancelation of Dualog account\n",
      "    New vessel: Theodor Essberger\n",
      "    New vessel: Eagle Brasilia\n",
      "    Vessel name change: from Max Moon to Pacific Busan\n",
      "    New vessel: TRF Partici\n",
      "    New vessel: Mars Harmony\n",
      "    New vessel: Venus Harmony\n",
      "    Remove of Vessel from Dualog.net database\n",
      "    Inactive vessel housekeeping\n",
      "    New vessel: Theodor Essberger\n",
      "Cluster 83\n",
      "    Oppretting av skipper konto.\n",
      "    Returmelding mangler\n",
      "    Vil kansellere DEP,DCA,POR\n",
      "    Akselseson, endring av registreringsmerke\n",
      "    Inmarsat-C testing\n",
      "    Nytt Passord/Tilbakestilling av Passord\n",
      "    Haugagut - Hjelp med korrigering\n",
      "    Test av bluetraker.\n",
      "    GPS funksjonalitet på nettbrett\n",
      "    Test av fangstdagbok.\n",
      "Cluster 47\n",
      "    Chemroad Quest - New crew registraion\n",
      "    Re : Lodestar Genesis // Request New Joint crew ID & Password\n",
      "    Chemroad Quest - New crew registraion\n",
      "    Chemroad Quest - New crew registraion\n",
      "    RE: [Dualog] Re: RE: Tamiat Navigator / New onboard crew ID & Password\n",
      "    Caribbean Spirit //--- Personal Dualog Account (Password) for Crew Member\n",
      "    RE: [Dualog] Re: RE: Tamiat Navigator / New onboard crew ID & Password\n",
      "    RE: [Dualog] Re: RE: Tamiat Navigator / New onboard crew ID & Password\n",
      "    Reset PASSWORD\n",
      "    CHEMROAD HOPE : Request Crew Dualog Account\n",
      "Cluster 26\n",
      "    Voldnes - Overgang nettbrett\n",
      "    Lysbøen - Venter på returmelding\n",
      "    Tønsnes, treng internett\n",
      "    Wikerøy, Inmarsat-C fungerer ikke\n",
      "    Inmarsat-C funksjonstesting.\n",
      "    Fwd: {Virus?} Formato preliminar de incidente ENAP\n",
      "    ACK ikke videresendt til brettet\n",
      "    Midnatsol, fjerne meldinger som er stuck.\n",
      "    Test12345b\n",
      "    Test12345\n",
      "Cluster 43\n",
      "    Fwd: Eagle Verona - FBB500\n",
      "    Files sent to Bunga Kelana 8\n",
      "    Dualog Connection Suite\n",
      "    Add the following Ports - Dualog\n",
      "    RE: Block email address -Unblock\n",
      "    Dualog Test Vessels Account\n",
      "    Create FBB250 Startos profile for Paramount Hatteras\n",
      "    Unable to login to NS5 account\n",
      "    Paramount Hydra - XpressLink details\n",
      "    Bunga Kelana 4 release from Eaglestar\n",
      "Cluster 33\n",
      "    Dashboards\n",
      "    RE: Vessel not getting proper Antivirus update\n",
      "    Stena Forecaster\n",
      "    Dualog not working on Connemara\n",
      "    Albert III\n",
      "    Eships Eagle\n",
      "    Sampson dualog connections\n",
      "    Malwarebytes exe file\n",
      "    Vessel not getting proper Antivirus update\n",
      "    Update rport in not sync on dual log\n",
      "Cluster 71\n",
      "    Shaden, not able to open Connection Suite\n",
      "    Bahri Rose, not able to open Dualog Page.\n",
      "    DCS page freeze\n",
      "    NCC noor, Dualog not working\n",
      "    Shaden, Dualog Page not opening\n",
      "    Unable to access Dualog page\n",
      "    Oracle down\n",
      "    NCC Noor. Dualog page not opening.\n",
      "    Shaden, Connection Suite page not opening\n",
      "    Dualog page unable to open due to Oracle\n",
      "Cluster 75\n",
      "    MV Bahri Wafi / Dualog / No communication via 192.168.1.1\n",
      "    MV Bahri Wafi / New Crew Internet Access via Dualog\n",
      "    BAHRI BULK - On-Signers ID & Paswords (Revised)\n",
      "    RE: MV Bahri WAFI / 192.168.1.1in operation\n",
      "    MV BAHRI WAFI / DuaCorePro / Communication problems.\n",
      "    MV Bahri WAFI / 192.168.....does not work\n",
      "    FW: Dualog blocked attachment\n",
      "    Bahri Tabuk_FW: {Attachments quarantined by Dualog!} 666/DATA/6536/2018/11/21-9-1/3\n",
      "    Bahri Arasco - Password for onsigners]\n",
      "    NCC FAJR / 0917 / DUALOG / Crew Addition request\n",
      "Cluster 16\n",
      "    Sahba / 780 / Request Email ID\n",
      "    SAHBA / REPLICATION / ANTIVIRUS UPDATE\n",
      "    Sahba / 781 / Request Email ID\n",
      "    // KIRANA QUARTYA : VOY. 31/18 ~ Crew wifi ID Register KQ\n",
      "    // KIRANA QUARTYA : Crew Wifi ID Request for Register\n",
      "    RE: // KIRANA QUARTYA : VOY. 05/19 ~ Crew wifi ID Register KQ\n",
      "    // KIRANA QUARTYA : VOY. 28/18 ~ CREW KIRANA QUARTYA WIFI ID REQUEST TO REGISTER\n",
      "    V.45 CHEMROUTE PEGASUS - REQUEST ID & PASSWORD\n",
      "    MT Chemroad Lily / The Request for the assistance\n",
      "    RE://Request New dualog account for New Joining Crew- User ID and password /Yodohime /\n",
      "Cluster 94\n",
      "    Team Viewer not working in Ship LAN\n",
      "    MAERSK SHAMS - Urgent Connection Suite unable to Launch\n",
      "    BERGE TARANAKI - NEW Takeover\n",
      "    Maersk shams- windows account getting locked out\n",
      "    TEN SHU MARU - Neom- Out of Management\n",
      "    EMERALD HORIZON - Data usage report\n",
      "    Emerald Horizon - Iridium data usage\n",
      "    NYK Olympus : name change to ONE Olympus - Email id change\n",
      "    RE: Maersk Vessel || OWS Software\n",
      "    Error on Maersk Mizushima Dualog pages\n",
      "Cluster 57\n",
      "    Fwd: XLNC / Non-Delivery-Report: RE: Al Jassasiya - QG-JSY-026 - 48 Hour Arrival Notice at Pilot Station / reminder\n",
      "    [Fwd: ##75326## : FW: {SPAM?} master.lng.enugu@bwgas.com password is rifawiky]\n",
      "    [Fwd: ##75520## : Fwd: Non-Delivery-Report: Jubilanten]\n",
      "    [Fwd: ##75272## : FW: master.lng.enugu@bwgas.com password is rifawiky]\n",
      "    FW: Non-Delivery-Report: RE: CSC Helpdesk Form (BEN6046232) - Please create Remedy Incident.\n",
      "    RE: [Dualog] Re: Stena Nordica\n",
      "    Messages not being delivered\n",
      "    mv Nightwing - Connection Issues\n",
      "    Fwd: Undeliverable: M/T ANUKET IVORY-Port of Kaiser /updated SOF on 03.11.2018 at 18:42lt\n",
      "    Crown Sapphire - Left Our Management At St Petersburg - 12:00 Hours 27th November 2018\n",
      "Cluster 24\n",
      "    BAHRI ARASCO - VIRUS SIGNATURE DATABASE IS OUT OF DATE\n",
      "    Niban /Antivirus detect\n",
      "    FW: OPENPORT 8988169777000257699 - HIGH USAGE ALERT (DATA) - LAYLA - NOV 18\n",
      "    NCC Tabuk issue\n",
      "    - RE: NCC TABUK / IT / Problems with sending/receiving mail. -\n",
      "    JALADI Dualog\n",
      "    Sahba /Dualog Antivirus update\n",
      "    FW: Videotel Update for Karco & Company Specific training Videos\n",
      "    FW: INC201820753 - SAHBA / IT / REPLICATION\n",
      "    FW: Internal ship communication on NCC RABIGH\n",
      "Cluster 36\n",
      "    Themis Triumph FBB is not reachable and unable to make connection\n",
      "    Request for Support - Mineral Haiku\n",
      "    Dualog - FBB connection error\n",
      "    Mesaimeer - Unable to connect using FBB\n",
      "    VSAT and FBB unable to make connection\n",
      "    VSAT Error open IP\n",
      "    NCC Noor unable to make connection for past 4hrs\n",
      "    No internet on board.\n",
      "    FBB unable to make connection\n",
      "    VSAT having issues connecting.\n",
      "Cluster 3\n",
      "    Golar Crystal | Dualog Auto-Redirection not working\n",
      "    Client Computer Cannot Update ESET Antivirus\n",
      "    Recover Lost Email for Golar Crystal\n",
      "    Website blocked in Dualog\n",
      "    Golar Maria - Captain Missing e-mail\n",
      "    Requesting to Release Blocked Attachment\n",
      "    Golar Glacier - Crew wireless unable get valid DHCP\n",
      "    Share calendar\n",
      "    Golar Crystal | Wifi crew not able to open some webpages\n",
      "    RE: Dualog setup Vessel test\n",
      "Cluster 6\n",
      "    New request created with ID: ##8810## from Medi Lausanne\n",
      "    GLENDA MELISSA : Dualog password reset./ Email request\n",
      "    CIELO DI CARTAGENA / NEW CREW REGISTRATION TO DUALOG\n",
      "    Alpine Hibiscus - Email Address Crew Members\n",
      "    HIGH STRENGTH : Crew ID and password\n",
      "    Medi Lausanne - e-Mail account for 3/E Vallega Vincent Caluban\n",
      "    HIGH STRENGTH : Crew ID and password\n",
      "    Alpine Maria / V 39 /RESETTING PASSWORD\n",
      "    Alpine Mary - Crew E-mail account\n",
      "    Glenda Megan // New ID // Reset Password etc\n",
      "Cluster 45\n",
      "    Re: [Request ID :##74973##] : Manual Creation of Personal Dualog Account\n",
      "    [Fwd: ##74917## : Re: Request RESOLVED – Your Request with title \"Re: BW Everett - Iridium  System faulty\" - [ID ##74917##]]\n",
      "    Re: Fwd: Re: FwdRe: FwdRe: [Request ID :##74892##] : BW Gemini - Dualog Bridge Account to Have Access to ADP & eBooks Updates\n",
      "    FwdRe: [Request ID :##76034##] : FW: BW ELM - NavBox not responding\n",
      "    [Fwd: ##75720## : COMPAS ONBOARD - BW TANKERS]\n",
      "    RE: [Fwd: ##75243## : PW /Dualog/Compas]\n",
      "    RE: [Fwd: ##75243## : PW /Dualog/Compas]\n",
      "    [Fwd: ##75160## : Wrong address in Dualog]\n",
      "    [Fwd: ##74334## : RE: [Request ID :##74334##] : BW Merlin - IT - Internet data usage for 3/E Patel Farzad (ID]\n",
      "    [Fwd: ##75318## : Access to Weather website]\n",
      "Cluster 15\n",
      "    Fwd: Cardinal Victory - Update for DUALOG ESET Endpoint Antivirus\n",
      "    Re: FW: Cardinal Victory - Update for DUALOG ESET Endpoint Antivirus\n",
      "    RE: RESEND WITH FULL STYLE AGENT ///MDM_Dyna_Voyager is Down :[#CAS-50731-L5Y1C8]\n",
      "    Fwd: RE: VICTORIA T - Master cabin Client CaptPC// send & receive\n",
      "    Re: {Attachments quarantined by Dualog!} Re: DYNA VOYAGER - Weekly update attachment error\n",
      "    Fwd: FW: Email system - Change from Commbox to Cisco Router + Dualog ASAP\n",
      "    FW: {Attachments quarantined by Dualog!} RE: GFZ/Drew watch program\n",
      "    FW: {Attachments quarantined by Dualog!} Re: [Request ID :##284007##] : AVCS BoB Permits 05/19\n",
      "    Fwd: {Attachments quarantined by Dualog!} MV CLIPPER LIS / VOYAGE INSTRUCTION\n",
      "    Fwd: {Attachments quarantined by Dualog!} FW: GMS SHARQI & GMS SHAMAL OCT 2018\n",
      "Cluster 78\n",
      "    BW Lilac / Dualog+Compas\n",
      "    Re: [Request ID :##75467##] : BW Lilac / Dualog+Compas\n",
      "    FW: [Request received] FW: crew password\n",
      "    dualog register internet problem\n",
      "    Reset vessel account password\n",
      "    Crew account for office superintendent\n",
      "    Password reset\n",
      "    Staionary account creation: Crew Sea Triumph\n",
      "    Webmail on shore\n",
      "    Crew mail\n",
      "Cluster 73\n",
      "    FW: Geo Ocean III\n",
      "    quarantine\n",
      "    FW: Master of JP Azure\n",
      "    Re: NOSHIRO MARU // REQUEST TO RECEIVE MESSAGE\n",
      "    FW: VECCHIO BRIDGE V.113W Ships email connection fail\n",
      "    Re: JP AZURE// REQUEST TO RECEIVE QUARANTINED MESSAGE\n",
      "    Re: VECCHIOBRIDGE / V.112E / Confirm ship's email capacity\n",
      "    FW: JP AZURE// REQUEST TO RECEIVE QUARANTINED MESSAGE\n",
      "    Ship Name change - APL Latvia\n",
      "    File transfer failed\n",
      "Cluster 60\n",
      "    Fwd: MV MINERAL HAIKU - CREW EMAIL PROBLEM\n",
      "    Unable to surf on crew wifi\n",
      "    MV Emerald Horizon V.24L - Requesting Crew Email Access at Dualog\n",
      "    Albatross - Request Crew Email address\n",
      "    Fwd: King Barley : New Crew for Dualog Crew E-mail System\n",
      "    Fwd: M/V ORIENT IRIS - Crew E-mail Account\n",
      "    FW: M.V. Ototachibana : Request for crew email activation for new crew\n",
      "    CAPRICORN ONE- Request for New Crew email log-in and password\n",
      "    FW: Ultra Lion - Access to dualog system\n",
      "    FW: Bulk Aries - Email address\n",
      "Cluster 9\n",
      "    AST Usage Alert SIM: 898709911414167837 | Vessel: Jaya Chieftain\n",
      "    AST Usage Alert SIM: 898709911414167837 | Vessel: Jaya Chieftain\n",
      "    AST Usage Alert SIM: 898709909414127068 | Vessel: CSL Elbe\n",
      "    AST Usage Alert SIM: 898709909414127068 | Vessel: CSL Elbe\n",
      "    071593: [Dualog] Urgent: CSL Rhine and CSL Elbe Data activation\n",
      "    AST Usage Alert SIM: 898709909414127068 | Vessel: CSL Elbe\n",
      "    071593: [Dualog] Urgent: CSL Rhine and CSL Elbe Data activation\n",
      "    AST Alert - Auto Data Suspension Pending SIM: 898709909414127068 | Vessel: CSL Elbe\n",
      "    AST Usage Alert SIM: 898709909414127068 | Vessel: CSL Elbe\n",
      "    AST Usage Alert SIM: 898709911414167837 | Vessel: Jaya Chieftain\n",
      "Cluster 11\n",
      "    Spam email to vessels.\n",
      "    FW: CLIPPER BARI-STAR / Spam email sent from vessel\n",
      "    Fwd: M/V Dyna Voyager - E-mail system\n",
      "    Problem: Cannot send using Outlok\n",
      "    Stuck message over FBB\n",
      "    Mail not received\n",
      "    Al Hamla - email not delivered\n",
      "    Malware received\n",
      "    Re: Al Ghuwairiya - AME File Transfer failure\n",
      "    Malware emails\n",
      "Cluster 68\n",
      "    Satelite being unstable.\n",
      "    Troubles connecting.\n",
      "    Inquiry on xe restore\n",
      "    OGNA: Imap Backup using NAS drive\n",
      "    Golar Seal unable to send and receive emails\n",
      "    Transmission Failure | 8MB outgoing file stuck\n",
      "    Crew wifi unable to access the Internet\n",
      "    Oracle Issues\n",
      "    Unable to make Whatsapp call via the crew wifi\n",
      "    TV is not accessible from Shore\n",
      "Cluster 53\n",
      "    Clipper Tenacious - Dualog/crew mail\n",
      "    Clipper Tenacious - Dualog/crew mail\n",
      "    Clipper Lis - whitelist e-mail address\n",
      "    Eridanus Leader // Query regarding received Mail Storage\n",
      "    RE: DPL// REQUEST FOR ATTACHMENT v.012\n",
      "    HS TOSCA / Crew Internet accounts\n",
      "    HS Tosca / Communication restored\n",
      "    HS TOSCA / Crew Internet accounts\n",
      "    HS TOSCA / Crew Internet accounts\n",
      "    NMM IT, can stationary account access mail on shore\n"
     ]
    }
   ],
   "source": [
    "for clusterid in clusterorder[(clustercount > 25) & (clustercount < 70)]:\n",
    "    print(\"Cluster %s\" % clusterid)\n",
    "    for t in clusteredtickets[clusterid][:10]:\n",
    "        print(\"    %(subject)s\" % t)"
   ]
  },
  {
   "cell_type": "markdown",
   "metadata": {},
   "source": [
    "## Most common words in descriptions"
   ]
  },
  {
   "cell_type": "code",
   "execution_count": 230,
   "metadata": {},
   "outputs": [
    {
     "name": "stdout",
     "output_type": "stream",
     "text": [
      "crew 449\n",
      "bridge 451\n",
      "captain 455\n",
      "vsat 509\n",
      "mobile 516\n",
      "http 526\n",
      "phone 556\n",
      "fax 682\n",
      "fbb 686\n",
      "tel 702\n"
     ]
    }
   ],
   "source": [
    "for f, word in orderedmsgfreq[-10:]:\n",
    "    print(word, f)"
   ]
  },
  {
   "cell_type": "code",
   "execution_count": null,
   "metadata": {},
   "outputs": [],
   "source": []
  }
 ],
 "metadata": {
  "kernelspec": {
   "display_name": "Python 3",
   "language": "python",
   "name": "python3"
  },
  "language_info": {
   "codemirror_mode": {
    "name": "ipython",
    "version": 3
   },
   "file_extension": ".py",
   "mimetype": "text/x-python",
   "name": "python",
   "nbconvert_exporter": "python",
   "pygments_lexer": "ipython3",
   "version": "3.6.3"
  }
 },
 "nbformat": 4,
 "nbformat_minor": 2
}
