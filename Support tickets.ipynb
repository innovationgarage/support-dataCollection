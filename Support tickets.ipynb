{
 "cells": [
  {
   "cell_type": "code",
   "execution_count": 3,
   "metadata": {},
   "outputs": [
    {
     "data": {
      "text/plain": [
       "b'Requirement already satisfied: nltk in /opt/conda/lib/python3.6/site-packages\\nRequirement already satisfied: six in /opt/conda/lib/python3.6/site-packages (from nltk)\\nRequirement already satisfied: singledispatch in /opt/conda/lib/python3.6/site-packages (from nltk)\\n'"
      ]
     },
     "execution_count": 3,
     "metadata": {},
     "output_type": "execute_result"
    }
   ],
   "source": [
    "import subprocess\n",
    "subprocess.check_output([\"pip\", \"install\", \"nltk\"])\n",
    "\n",
    "subprocess.check_output([\"python\", \"-m\", \"nltk.downloader\", \"all\"])"
   ]
  },
  {
   "cell_type": "code",
   "execution_count": 5,
   "metadata": {},
   "outputs": [
    {
     "name": "stdout",
     "output_type": "stream",
     "text": [
      "Populating the interactive namespace from numpy and matplotlib\n"
     ]
    }
   ],
   "source": [
    "%pylab inline\n",
    "import msgpack\n",
    "import nltk"
   ]
  },
  {
   "cell_type": "code",
   "execution_count": 8,
   "metadata": {},
   "outputs": [],
   "source": [
    "with open(\"/home/jovyan//ymslanda/supportnlp/support-dataCollection/all_tickets_and_comments.msgpack\", \"rb\") as f:\n",
    "    data = msgpack.load(f, raw=False)"
   ]
  },
  {
   "cell_type": "code",
   "execution_count": 29,
   "metadata": {},
   "outputs": [
    {
     "name": "stdout",
     "output_type": "stream",
     "text": [
      "Heisan\n",
      "\n",
      "Nå har jeg brukt eCatch i en tur og funnet det lett å jobbe med. \n",
      "Nu bittter vi skippar  hann som kommer nu heder \n",
      "Helgi Sigvaldason \n",
      "helgi.jobb@gmail.com \n",
      "95784028\n",
      "Han må få brukernavn og passord\n",
      "\n",
      "\n",
      "Sigvaldi Thorsteinsson\n",
      "Kløfta 4\n",
      "9750 Honningsvåg\n",
      "Norge\n",
      "mobile:95862149\n"
     ]
    }
   ],
   "source": [
    "print(data[360000095711][54656][\"description\"])"
   ]
  },
  {
   "cell_type": "code",
   "execution_count": 30,
   "metadata": {},
   "outputs": [
    {
     "name": "stdout",
     "output_type": "stream",
     "text": [
      "Heisan\n",
      "\n",
      "Nå har jeg brukt eCatch i en tur og funnet det lett å jobbe med. \n",
      "Nu bittter vi skippar  hann som kommer nu heder \n",
      "Helgi Sigvaldason \n",
      "helgi.jobb@gmail.com \n",
      "95784028\n",
      "Han må få brukernavn og passord\n",
      "\n",
      "\n",
      "Sigvaldi Thorsteinsson\n",
      "Kløfta 4\n",
      "9750 Honningsvåg\n",
      "Norge\n",
      "mobile:95862149\n"
     ]
    }
   ],
   "source": [
    "print(data[360000095711][54656][\"description\"])"
   ]
  },
  {
   "cell_type": "code",
   "execution_count": 9,
   "metadata": {},
   "outputs": [
    {
     "data": {
      "text/plain": [
       "['Heisan',\n",
       " 'Nå',\n",
       " 'har',\n",
       " 'jeg',\n",
       " 'brukt',\n",
       " 'eCatch',\n",
       " 'i',\n",
       " 'en',\n",
       " 'tur',\n",
       " 'og',\n",
       " 'funnet',\n",
       " 'det',\n",
       " 'lett',\n",
       " 'å',\n",
       " 'jobbe',\n",
       " 'med',\n",
       " '.',\n",
       " 'Nu',\n",
       " 'bittter',\n",
       " 'vi',\n",
       " 'skippar',\n",
       " 'hann',\n",
       " 'som',\n",
       " 'kommer',\n",
       " 'nu',\n",
       " 'heder',\n",
       " 'Helgi',\n",
       " 'Sigvaldason',\n",
       " 'helgi.jobb',\n",
       " '@',\n",
       " 'gmail.com',\n",
       " '95784028',\n",
       " 'Han',\n",
       " 'må',\n",
       " 'få',\n",
       " 'brukernavn',\n",
       " 'og',\n",
       " 'passord',\n",
       " 'Sigvaldi',\n",
       " 'Thorsteinsson',\n",
       " 'Kløfta',\n",
       " '4',\n",
       " '9750',\n",
       " 'Honningsvåg',\n",
       " 'Norge',\n",
       " 'mobile:95862149']"
      ]
     },
     "execution_count": 9,
     "metadata": {},
     "output_type": "execute_result"
    }
   ],
   "source": [
    "nltk.tokenize.word_tokenize(data[360000095711][54656][\"description\"])"
   ]
  },
  {
   "cell_type": "code",
   "execution_count": null,
   "metadata": {},
   "outputs": [],
   "source": []
  }
 ],
 "metadata": {
  "kernelspec": {
   "display_name": "Python 3",
   "language": "python",
   "name": "python3"
  },
  "language_info": {
   "codemirror_mode": {
    "name": "ipython",
    "version": 3
   },
   "file_extension": ".py",
   "mimetype": "text/x-python",
   "name": "python",
   "nbconvert_exporter": "python",
   "pygments_lexer": "ipython3",
   "version": "3.6.3"
  }
 },
 "nbformat": 4,
 "nbformat_minor": 2
}
